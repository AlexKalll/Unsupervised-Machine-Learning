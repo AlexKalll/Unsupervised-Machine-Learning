{
  "cells": [
    {
      "cell_type": "markdown",
      "metadata": {
        "id": "view-in-github",
        "colab_type": "text"
      },
      "source": [
        "<a href=\"https://colab.research.google.com/github/AlexKalll/Unsupervised-Machine-Learning/blob/main/Task_3_Sentiment_analysis_to_consumer_feedback_on_sustainable_products.ipynb\" target=\"_parent\"><img src=\"https://colab.research.google.com/assets/colab-badge.svg\" alt=\"Open In Colab\"/></a>"
      ]
    },
    {
      "cell_type": "markdown",
      "metadata": {
        "id": "QqJk9yRvtgkw"
      },
      "source": [
        "# Task-3: Sentiment analysis to consumer feedback on sustainable products\n",
        "- Sentiment Analysis for Sustainable Product Design using BERT, by fine-tuning it\n",
        "\n",
        "[**Click Here to visit the project scpecifications**](https://docs.google.com/presentation/d/1wbR8axNdw4NjJMoSTXLECKzepvHMfJ1KTMbHZ9HQiBw/edit?slide=id.p#slide=id.p)\n",
        "\n",
        "#### Contents\n",
        "1. [introduction](#scrollTo=iks43xQQx8Er&line=3&uniqifier=1)\n",
        "2. [Setup and Dataset Loading: the NLTK's twitter_samples Corpus](#scrollTo=YVbhh450xphN&line=5&uniqifier=1)\n",
        "3. [Dataset Exploration and Preprocessing for BERT](#scrollTo=VUB-MxxdLmG4&line=1&uniqifier=1)\n",
        "4. [Initial BERT Model Training and Evaluation](#scrollTo=P-ZEjCetOJLd&line=3&uniqifier=1)\n",
        "5. [Initial Sentiment Analysis with Custom Sentences](#scrollTo=ur9lBWpyPrAI&line=2&uniqifier=1)\n",
        "6. [Synthetic Data Generation for Sustainability Sentiments](#scrollTo=YGwz07AjR6gC&line=21&uniqifier=1)\n",
        "7. [Fine-Tuning BERT on Synthetic Sustainability Data](#scrollTo=JvRhPcZlX9bi&line=3&uniqifier=1)\n",
        "8. [Re-analysis of Custom Sentences with Fine-Tuned Model and Comparison](#scrollTo=LeoJUOJsaOpU&line=6&uniqifier=1)\n",
        "9. [Conclusion and Insights](#scrollTo=Hz1x-rhkbHFN&line=18&uniqifier=1)"
      ]
    },
    {
      "cell_type": "markdown",
      "metadata": {
        "id": "iks43xQQx8Er"
      },
      "source": [
        "### 1\\. Introduction\n",
        "\n",
        "This project focuses on leveraging natural language processing (NLP) through sentiment analysis to enhance sustainable product design. The objective is to analyze consumer feedback to understand preferences, improve product messaging, and identify sustainable design opportunities, addressing challenges like higher upfront costs and behavioral trade-offs of eco-friendly products.\n",
        "\n",
        "The project involves several steps:\n",
        "\n",
        "1.  Loading and exploring NLTK's `twitter_samples` corpus (positive and negative tweets).\n",
        "2.  Preprocessing the data for BERT sentiment analysis.\n",
        "3.  Training a BERT model (`bert-base-uncased`) to classify tweet sentiments.\n",
        "4.  Generating synthetic data, comprising 500 positive, 500 negative, and 500 neutral eco-tweets to reflect sustainability-focused consumer feedback.\n",
        "5.  Fine-tuning the BERT model on this synthetic dataset to improve its sensitivity to sustainability-related sentiments.\n",
        "6.  Re-analyzing custom sentences with the fine-tuned model to assess prediction improvements, and comparing the results to draw insights.\n",
        "\n",
        "The task being is done using core libraries like NLTK, transformers, Pytorch, and Scikit-Learn.\n"
      ]
    },
    {
      "cell_type": "markdown",
      "metadata": {
        "id": "eXXEf2WqI4H5"
      },
      "source": [
        "### 2\\. Setup and Dataset Loading: the NLTK's `twitter_samples` Corpus\n",
        "\n",
        "This section handles the initial setup, including installing necessary libraries and downloading the `twitter_samples` corpus from NLTK. This corpus provides a readily available dataset of positive and negative tweets, serving as a baseline for our initial BERT model training."
      ]
    },
    {
      "cell_type": "code",
      "execution_count": 2,
      "metadata": {
        "id": "3VCTjmvTssPU"
      },
      "outputs": [],
      "source": [
        "# ignore any warning texts\n",
        "import warnings\n",
        "warnings.filterwarnings(\"ignore\")"
      ]
    },
    {
      "cell_type": "code",
      "execution_count": 3,
      "metadata": {
        "id": "YVbhh450xphN"
      },
      "outputs": [],
      "source": [
        "# Import necessary libraries\n",
        "import pandas as pd\n",
        "import numpy as np\n",
        "import nltk\n",
        "import torch\n",
        "import random\n",
        "from torch.utils.data import Dataset, DataLoader\n",
        "from transformers import BertTokenizer, BertForSequenceClassification, get_linear_schedule_with_warmup\n",
        "from torch.optim import AdamW\n",
        "from sklearn.model_selection import train_test_split\n",
        "from sklearn.metrics import accuracy_score, precision_recall_fscore_support, confusion_matrix\n",
        "from tqdm import tqdm"
      ]
    },
    {
      "cell_type": "code",
      "execution_count": 4,
      "metadata": {
        "id": "oGpN_upFJ4dA"
      },
      "outputs": [],
      "source": [
        "# set random seeds for reproducibility\n",
        "def set_seed(seed_value= 42):\n",
        "  random.seed(seed_value)\n",
        "  np.random.seed(seed_value)\n",
        "  torch.manual_seed(seed_value)\n",
        "  torch.cuda.manual_seed_all(seed_value)\n",
        "\n",
        "set_seed(42)"
      ]
    },
    {
      "cell_type": "code",
      "execution_count": 5,
      "metadata": {
        "colab": {
          "base_uri": "https://localhost:8080/"
        },
        "id": "KQgD6HaTJ7XU",
        "outputId": "5d01df0a-fd56-4fd7-fb61-fbbc0f655c9c"
      },
      "outputs": [
        {
          "output_type": "stream",
          "name": "stderr",
          "text": [
            "[nltk_data] Downloading package twitter_samples to /root/nltk_data...\n",
            "[nltk_data]   Unzipping corpora/twitter_samples.zip.\n",
            "[nltk_data] Downloading package punkt to /root/nltk_data...\n",
            "[nltk_data]   Unzipping tokenizers/punkt.zip.\n"
          ]
        },
        {
          "output_type": "execute_result",
          "data": {
            "text/plain": [
              "True"
            ]
          },
          "metadata": {},
          "execution_count": 5
        }
      ],
      "source": [
        "# dowanload the NLTK data\n",
        "nltk.download('twitter_samples')\n",
        "nltk.download('punkt') # for tokenization if the dataset is not been already"
      ]
    },
    {
      "cell_type": "markdown",
      "metadata": {
        "id": "VUB-MxxdLmG4"
      },
      "source": [
        "### 3\\. Dataset Exploration and Preprocessing for BERT\n",
        "\n",
        "In this step, we load the positive and negative tweets from the `twitter_samples` corpus. We then combine them and preprocess the data specifically for BERT. This involves tokenization using `BertTokenizer`, which handles converting text into a format understandable by BERT (input IDs, attention masks, and token type IDs). We also encode the labels (positive, negative) numerically.\n",
        "\n",
        "To prepare the data for BERT, we define a custom `TweetDataset` class. This class takes raw text and labels, and internally uses the `BertTokenizer` to tokenize and encode each text into numerical inputs (input IDs, attention masks) that BERT expects. `input_ids` are the token IDs, `attention_mask` indicates which tokens are actual words versus padding, and `token_type_ids` distinguish between different segments if processing a pair of sentences (not needed here). Finally, `DataLoader`s are created to efficiently batch and load data during training and validation.\n"
      ]
    },
    {
      "cell_type": "code",
      "execution_count": 6,
      "metadata": {
        "id": "b8zVfCugLcka"
      },
      "outputs": [],
      "source": [
        "# Load positive and negative tweets from NLTK's twitter_samples\n",
        "from nltk.corpus import twitter_samples\n",
        "\n",
        "positive_tweets = twitter_samples.strings('positive_tweets.json')\n",
        "negative_tweets = twitter_samples.strings('negative_tweets.json')"
      ]
    },
    {
      "cell_type": "code",
      "execution_count": 7,
      "metadata": {
        "colab": {
          "base_uri": "https://localhost:8080/"
        },
        "id": "v7UI5fOJM_rY",
        "outputId": "5e35a544-88b3-440e-cd00-621c2e2eaad1"
      },
      "outputs": [
        {
          "output_type": "stream",
          "name": "stdout",
          "text": [
            "Number of positive tweets: 5000\n",
            "Number of negative tweets: 5000\n"
          ]
        }
      ],
      "source": [
        "print(\"Number of positive tweets:\", len(positive_tweets))\n",
        "print(\"Number of negative tweets:\", len(negative_tweets))"
      ]
    },
    {
      "cell_type": "code",
      "source": [
        "positive_tweets = positive_tweets[:700]\n",
        "negative_tweets = negative_tweets[:700]"
      ],
      "metadata": {
        "id": "7308thGBIxjq"
      },
      "execution_count": 8,
      "outputs": []
    },
    {
      "cell_type": "code",
      "source": [
        "print(\"Number of positive tweets:\", len(positive_tweets))\n",
        "print(\"Number of negative tweets:\", len(negative_tweets))"
      ],
      "metadata": {
        "colab": {
          "base_uri": "https://localhost:8080/"
        },
        "id": "nT9JPcIKIoqa",
        "outputId": "435e78f7-65e6-44b8-9557-46255125d87f"
      },
      "execution_count": 9,
      "outputs": [
        {
          "output_type": "stream",
          "name": "stdout",
          "text": [
            "Number of positive tweets: 700\n",
            "Number of negative tweets: 700\n"
          ]
        }
      ]
    },
    {
      "cell_type": "code",
      "execution_count": 10,
      "metadata": {
        "id": "zQFs7rosKD7q"
      },
      "outputs": [],
      "source": [
        "# Create labels: 1 for positive, 0 for negative\n",
        "positive_labels = [1] * len(positive_tweets)\n",
        "negative_labels = [0] * len(negative_tweets)"
      ]
    },
    {
      "cell_type": "code",
      "execution_count": 11,
      "metadata": {
        "id": "ENCHQp9u2YJe"
      },
      "outputs": [],
      "source": [
        "# Combine tweets and labels\n",
        "tweets = positive_tweets + negative_tweets\n",
        "labels = positive_labels + negative_labels"
      ]
    },
    {
      "cell_type": "code",
      "execution_count": 12,
      "metadata": {
        "colab": {
          "base_uri": "https://localhost:8080/",
          "height": 447
        },
        "id": "WWE8qXu6MH34",
        "outputId": "85981536-a20e-4691-f3e4-393e9d98f274"
      },
      "outputs": [
        {
          "output_type": "stream",
          "name": "stdout",
          "text": [
            "First 5 rows:\n"
          ]
        },
        {
          "output_type": "display_data",
          "data": {
            "text/plain": [
              "                                               tweet  sentiment\n",
              "0  #FollowFriday @France_Inte @PKuchly57 @Milipol...          1\n",
              "1  @Lamb2ja Hey James! How odd :/ Please call our...          1\n",
              "2  @DespiteOfficial we had a listen last night :)...          1\n",
              "3                               @97sides CONGRATS :)          1\n",
              "4  yeaaaah yippppy!!!  my accnt verified rqst has...          1"
            ],
            "text/html": [
              "\n",
              "  <div id=\"df-2d0c8aca-6440-482a-bea1-544072550b69\" class=\"colab-df-container\">\n",
              "    <div>\n",
              "<style scoped>\n",
              "    .dataframe tbody tr th:only-of-type {\n",
              "        vertical-align: middle;\n",
              "    }\n",
              "\n",
              "    .dataframe tbody tr th {\n",
              "        vertical-align: top;\n",
              "    }\n",
              "\n",
              "    .dataframe thead th {\n",
              "        text-align: right;\n",
              "    }\n",
              "</style>\n",
              "<table border=\"1\" class=\"dataframe\">\n",
              "  <thead>\n",
              "    <tr style=\"text-align: right;\">\n",
              "      <th></th>\n",
              "      <th>tweet</th>\n",
              "      <th>sentiment</th>\n",
              "    </tr>\n",
              "  </thead>\n",
              "  <tbody>\n",
              "    <tr>\n",
              "      <th>0</th>\n",
              "      <td>#FollowFriday @France_Inte @PKuchly57 @Milipol...</td>\n",
              "      <td>1</td>\n",
              "    </tr>\n",
              "    <tr>\n",
              "      <th>1</th>\n",
              "      <td>@Lamb2ja Hey James! How odd :/ Please call our...</td>\n",
              "      <td>1</td>\n",
              "    </tr>\n",
              "    <tr>\n",
              "      <th>2</th>\n",
              "      <td>@DespiteOfficial we had a listen last night :)...</td>\n",
              "      <td>1</td>\n",
              "    </tr>\n",
              "    <tr>\n",
              "      <th>3</th>\n",
              "      <td>@97sides CONGRATS :)</td>\n",
              "      <td>1</td>\n",
              "    </tr>\n",
              "    <tr>\n",
              "      <th>4</th>\n",
              "      <td>yeaaaah yippppy!!!  my accnt verified rqst has...</td>\n",
              "      <td>1</td>\n",
              "    </tr>\n",
              "  </tbody>\n",
              "</table>\n",
              "</div>\n",
              "    <div class=\"colab-df-buttons\">\n",
              "\n",
              "  <div class=\"colab-df-container\">\n",
              "    <button class=\"colab-df-convert\" onclick=\"convertToInteractive('df-2d0c8aca-6440-482a-bea1-544072550b69')\"\n",
              "            title=\"Convert this dataframe to an interactive table.\"\n",
              "            style=\"display:none;\">\n",
              "\n",
              "  <svg xmlns=\"http://www.w3.org/2000/svg\" height=\"24px\" viewBox=\"0 -960 960 960\">\n",
              "    <path d=\"M120-120v-720h720v720H120Zm60-500h600v-160H180v160Zm220 220h160v-160H400v160Zm0 220h160v-160H400v160ZM180-400h160v-160H180v160Zm440 0h160v-160H620v160ZM180-180h160v-160H180v160Zm440 0h160v-160H620v160Z\"/>\n",
              "  </svg>\n",
              "    </button>\n",
              "\n",
              "  <style>\n",
              "    .colab-df-container {\n",
              "      display:flex;\n",
              "      gap: 12px;\n",
              "    }\n",
              "\n",
              "    .colab-df-convert {\n",
              "      background-color: #E8F0FE;\n",
              "      border: none;\n",
              "      border-radius: 50%;\n",
              "      cursor: pointer;\n",
              "      display: none;\n",
              "      fill: #1967D2;\n",
              "      height: 32px;\n",
              "      padding: 0 0 0 0;\n",
              "      width: 32px;\n",
              "    }\n",
              "\n",
              "    .colab-df-convert:hover {\n",
              "      background-color: #E2EBFA;\n",
              "      box-shadow: 0px 1px 2px rgba(60, 64, 67, 0.3), 0px 1px 3px 1px rgba(60, 64, 67, 0.15);\n",
              "      fill: #174EA6;\n",
              "    }\n",
              "\n",
              "    .colab-df-buttons div {\n",
              "      margin-bottom: 4px;\n",
              "    }\n",
              "\n",
              "    [theme=dark] .colab-df-convert {\n",
              "      background-color: #3B4455;\n",
              "      fill: #D2E3FC;\n",
              "    }\n",
              "\n",
              "    [theme=dark] .colab-df-convert:hover {\n",
              "      background-color: #434B5C;\n",
              "      box-shadow: 0px 1px 3px 1px rgba(0, 0, 0, 0.15);\n",
              "      filter: drop-shadow(0px 1px 2px rgba(0, 0, 0, 0.3));\n",
              "      fill: #FFFFFF;\n",
              "    }\n",
              "  </style>\n",
              "\n",
              "    <script>\n",
              "      const buttonEl =\n",
              "        document.querySelector('#df-2d0c8aca-6440-482a-bea1-544072550b69 button.colab-df-convert');\n",
              "      buttonEl.style.display =\n",
              "        google.colab.kernel.accessAllowed ? 'block' : 'none';\n",
              "\n",
              "      async function convertToInteractive(key) {\n",
              "        const element = document.querySelector('#df-2d0c8aca-6440-482a-bea1-544072550b69');\n",
              "        const dataTable =\n",
              "          await google.colab.kernel.invokeFunction('convertToInteractive',\n",
              "                                                    [key], {});\n",
              "        if (!dataTable) return;\n",
              "\n",
              "        const docLinkHtml = 'Like what you see? Visit the ' +\n",
              "          '<a target=\"_blank\" href=https://colab.research.google.com/notebooks/data_table.ipynb>data table notebook</a>'\n",
              "          + ' to learn more about interactive tables.';\n",
              "        element.innerHTML = '';\n",
              "        dataTable['output_type'] = 'display_data';\n",
              "        await google.colab.output.renderOutput(dataTable, element);\n",
              "        const docLink = document.createElement('div');\n",
              "        docLink.innerHTML = docLinkHtml;\n",
              "        element.appendChild(docLink);\n",
              "      }\n",
              "    </script>\n",
              "  </div>\n",
              "\n",
              "\n",
              "    <div id=\"df-ff443ae2-47e3-4346-bb20-97ecbdf7ce56\">\n",
              "      <button class=\"colab-df-quickchart\" onclick=\"quickchart('df-ff443ae2-47e3-4346-bb20-97ecbdf7ce56')\"\n",
              "                title=\"Suggest charts\"\n",
              "                style=\"display:none;\">\n",
              "\n",
              "<svg xmlns=\"http://www.w3.org/2000/svg\" height=\"24px\"viewBox=\"0 0 24 24\"\n",
              "     width=\"24px\">\n",
              "    <g>\n",
              "        <path d=\"M19 3H5c-1.1 0-2 .9-2 2v14c0 1.1.9 2 2 2h14c1.1 0 2-.9 2-2V5c0-1.1-.9-2-2-2zM9 17H7v-7h2v7zm4 0h-2V7h2v10zm4 0h-2v-4h2v4z\"/>\n",
              "    </g>\n",
              "</svg>\n",
              "      </button>\n",
              "\n",
              "<style>\n",
              "  .colab-df-quickchart {\n",
              "      --bg-color: #E8F0FE;\n",
              "      --fill-color: #1967D2;\n",
              "      --hover-bg-color: #E2EBFA;\n",
              "      --hover-fill-color: #174EA6;\n",
              "      --disabled-fill-color: #AAA;\n",
              "      --disabled-bg-color: #DDD;\n",
              "  }\n",
              "\n",
              "  [theme=dark] .colab-df-quickchart {\n",
              "      --bg-color: #3B4455;\n",
              "      --fill-color: #D2E3FC;\n",
              "      --hover-bg-color: #434B5C;\n",
              "      --hover-fill-color: #FFFFFF;\n",
              "      --disabled-bg-color: #3B4455;\n",
              "      --disabled-fill-color: #666;\n",
              "  }\n",
              "\n",
              "  .colab-df-quickchart {\n",
              "    background-color: var(--bg-color);\n",
              "    border: none;\n",
              "    border-radius: 50%;\n",
              "    cursor: pointer;\n",
              "    display: none;\n",
              "    fill: var(--fill-color);\n",
              "    height: 32px;\n",
              "    padding: 0;\n",
              "    width: 32px;\n",
              "  }\n",
              "\n",
              "  .colab-df-quickchart:hover {\n",
              "    background-color: var(--hover-bg-color);\n",
              "    box-shadow: 0 1px 2px rgba(60, 64, 67, 0.3), 0 1px 3px 1px rgba(60, 64, 67, 0.15);\n",
              "    fill: var(--button-hover-fill-color);\n",
              "  }\n",
              "\n",
              "  .colab-df-quickchart-complete:disabled,\n",
              "  .colab-df-quickchart-complete:disabled:hover {\n",
              "    background-color: var(--disabled-bg-color);\n",
              "    fill: var(--disabled-fill-color);\n",
              "    box-shadow: none;\n",
              "  }\n",
              "\n",
              "  .colab-df-spinner {\n",
              "    border: 2px solid var(--fill-color);\n",
              "    border-color: transparent;\n",
              "    border-bottom-color: var(--fill-color);\n",
              "    animation:\n",
              "      spin 1s steps(1) infinite;\n",
              "  }\n",
              "\n",
              "  @keyframes spin {\n",
              "    0% {\n",
              "      border-color: transparent;\n",
              "      border-bottom-color: var(--fill-color);\n",
              "      border-left-color: var(--fill-color);\n",
              "    }\n",
              "    20% {\n",
              "      border-color: transparent;\n",
              "      border-left-color: var(--fill-color);\n",
              "      border-top-color: var(--fill-color);\n",
              "    }\n",
              "    30% {\n",
              "      border-color: transparent;\n",
              "      border-left-color: var(--fill-color);\n",
              "      border-top-color: var(--fill-color);\n",
              "      border-right-color: var(--fill-color);\n",
              "    }\n",
              "    40% {\n",
              "      border-color: transparent;\n",
              "      border-right-color: var(--fill-color);\n",
              "      border-top-color: var(--fill-color);\n",
              "    }\n",
              "    60% {\n",
              "      border-color: transparent;\n",
              "      border-right-color: var(--fill-color);\n",
              "    }\n",
              "    80% {\n",
              "      border-color: transparent;\n",
              "      border-right-color: var(--fill-color);\n",
              "      border-bottom-color: var(--fill-color);\n",
              "    }\n",
              "    90% {\n",
              "      border-color: transparent;\n",
              "      border-bottom-color: var(--fill-color);\n",
              "    }\n",
              "  }\n",
              "</style>\n",
              "\n",
              "      <script>\n",
              "        async function quickchart(key) {\n",
              "          const quickchartButtonEl =\n",
              "            document.querySelector('#' + key + ' button');\n",
              "          quickchartButtonEl.disabled = true;  // To prevent multiple clicks.\n",
              "          quickchartButtonEl.classList.add('colab-df-spinner');\n",
              "          try {\n",
              "            const charts = await google.colab.kernel.invokeFunction(\n",
              "                'suggestCharts', [key], {});\n",
              "          } catch (error) {\n",
              "            console.error('Error during call to suggestCharts:', error);\n",
              "          }\n",
              "          quickchartButtonEl.classList.remove('colab-df-spinner');\n",
              "          quickchartButtonEl.classList.add('colab-df-quickchart-complete');\n",
              "        }\n",
              "        (() => {\n",
              "          let quickchartButtonEl =\n",
              "            document.querySelector('#df-ff443ae2-47e3-4346-bb20-97ecbdf7ce56 button');\n",
              "          quickchartButtonEl.style.display =\n",
              "            google.colab.kernel.accessAllowed ? 'block' : 'none';\n",
              "        })();\n",
              "      </script>\n",
              "    </div>\n",
              "\n",
              "    </div>\n",
              "  </div>\n"
            ],
            "application/vnd.google.colaboratory.intrinsic+json": {
              "type": "dataframe",
              "summary": "{\n  \"name\": \"display(df_nltk\",\n  \"rows\": 5,\n  \"fields\": [\n    {\n      \"column\": \"tweet\",\n      \"properties\": {\n        \"dtype\": \"string\",\n        \"num_unique_values\": 5,\n        \"samples\": [\n          \"@Lamb2ja Hey James! How odd :/ Please call our Contact Centre on 02392441234 and we will be able to assist you :) Many thanks!\",\n          \"yeaaaah yippppy!!!  my accnt verified rqst has succeed got a blue tick mark on my fb profile :) in 15 days\",\n          \"@DespiteOfficial we had a listen last night :) As You Bleed is an amazing track. When are you in Scotland?!\"\n        ],\n        \"semantic_type\": \"\",\n        \"description\": \"\"\n      }\n    },\n    {\n      \"column\": \"sentiment\",\n      \"properties\": {\n        \"dtype\": \"number\",\n        \"std\": 0,\n        \"min\": 1,\n        \"max\": 1,\n        \"num_unique_values\": 1,\n        \"samples\": [\n          1\n        ],\n        \"semantic_type\": \"\",\n        \"description\": \"\"\n      }\n    }\n  ]\n}"
            }
          },
          "metadata": {}
        },
        {
          "output_type": "stream",
          "name": "stdout",
          "text": [
            "\n",
            "Last 5 rows:\n"
          ]
        },
        {
          "output_type": "display_data",
          "data": {
            "text/plain": [
              "                                                  tweet  sentiment\n",
              "1395                @crosseyesmiley I didn't see you :(          0\n",
              "1396  Tommy and Georgia are so cute they actually hu...          0\n",
              "1397        @21oclock :((( bout to instant transmission          0\n",
              "1398                  @daiIysolos zayn malik please :((          0\n",
              "1399       @angelhairhes i dont know what to dm you :((          0"
            ],
            "text/html": [
              "\n",
              "  <div id=\"df-9ba57bb8-e32f-46dc-9df0-e041a7e0957a\" class=\"colab-df-container\">\n",
              "    <div>\n",
              "<style scoped>\n",
              "    .dataframe tbody tr th:only-of-type {\n",
              "        vertical-align: middle;\n",
              "    }\n",
              "\n",
              "    .dataframe tbody tr th {\n",
              "        vertical-align: top;\n",
              "    }\n",
              "\n",
              "    .dataframe thead th {\n",
              "        text-align: right;\n",
              "    }\n",
              "</style>\n",
              "<table border=\"1\" class=\"dataframe\">\n",
              "  <thead>\n",
              "    <tr style=\"text-align: right;\">\n",
              "      <th></th>\n",
              "      <th>tweet</th>\n",
              "      <th>sentiment</th>\n",
              "    </tr>\n",
              "  </thead>\n",
              "  <tbody>\n",
              "    <tr>\n",
              "      <th>1395</th>\n",
              "      <td>@crosseyesmiley I didn't see you :(</td>\n",
              "      <td>0</td>\n",
              "    </tr>\n",
              "    <tr>\n",
              "      <th>1396</th>\n",
              "      <td>Tommy and Georgia are so cute they actually hu...</td>\n",
              "      <td>0</td>\n",
              "    </tr>\n",
              "    <tr>\n",
              "      <th>1397</th>\n",
              "      <td>@21oclock :((( bout to instant transmission</td>\n",
              "      <td>0</td>\n",
              "    </tr>\n",
              "    <tr>\n",
              "      <th>1398</th>\n",
              "      <td>@daiIysolos zayn malik please :((</td>\n",
              "      <td>0</td>\n",
              "    </tr>\n",
              "    <tr>\n",
              "      <th>1399</th>\n",
              "      <td>@angelhairhes i dont know what to dm you :((</td>\n",
              "      <td>0</td>\n",
              "    </tr>\n",
              "  </tbody>\n",
              "</table>\n",
              "</div>\n",
              "    <div class=\"colab-df-buttons\">\n",
              "\n",
              "  <div class=\"colab-df-container\">\n",
              "    <button class=\"colab-df-convert\" onclick=\"convertToInteractive('df-9ba57bb8-e32f-46dc-9df0-e041a7e0957a')\"\n",
              "            title=\"Convert this dataframe to an interactive table.\"\n",
              "            style=\"display:none;\">\n",
              "\n",
              "  <svg xmlns=\"http://www.w3.org/2000/svg\" height=\"24px\" viewBox=\"0 -960 960 960\">\n",
              "    <path d=\"M120-120v-720h720v720H120Zm60-500h600v-160H180v160Zm220 220h160v-160H400v160Zm0 220h160v-160H400v160ZM180-400h160v-160H180v160Zm440 0h160v-160H620v160ZM180-180h160v-160H180v160Zm440 0h160v-160H620v160Z\"/>\n",
              "  </svg>\n",
              "    </button>\n",
              "\n",
              "  <style>\n",
              "    .colab-df-container {\n",
              "      display:flex;\n",
              "      gap: 12px;\n",
              "    }\n",
              "\n",
              "    .colab-df-convert {\n",
              "      background-color: #E8F0FE;\n",
              "      border: none;\n",
              "      border-radius: 50%;\n",
              "      cursor: pointer;\n",
              "      display: none;\n",
              "      fill: #1967D2;\n",
              "      height: 32px;\n",
              "      padding: 0 0 0 0;\n",
              "      width: 32px;\n",
              "    }\n",
              "\n",
              "    .colab-df-convert:hover {\n",
              "      background-color: #E2EBFA;\n",
              "      box-shadow: 0px 1px 2px rgba(60, 64, 67, 0.3), 0px 1px 3px 1px rgba(60, 64, 67, 0.15);\n",
              "      fill: #174EA6;\n",
              "    }\n",
              "\n",
              "    .colab-df-buttons div {\n",
              "      margin-bottom: 4px;\n",
              "    }\n",
              "\n",
              "    [theme=dark] .colab-df-convert {\n",
              "      background-color: #3B4455;\n",
              "      fill: #D2E3FC;\n",
              "    }\n",
              "\n",
              "    [theme=dark] .colab-df-convert:hover {\n",
              "      background-color: #434B5C;\n",
              "      box-shadow: 0px 1px 3px 1px rgba(0, 0, 0, 0.15);\n",
              "      filter: drop-shadow(0px 1px 2px rgba(0, 0, 0, 0.3));\n",
              "      fill: #FFFFFF;\n",
              "    }\n",
              "  </style>\n",
              "\n",
              "    <script>\n",
              "      const buttonEl =\n",
              "        document.querySelector('#df-9ba57bb8-e32f-46dc-9df0-e041a7e0957a button.colab-df-convert');\n",
              "      buttonEl.style.display =\n",
              "        google.colab.kernel.accessAllowed ? 'block' : 'none';\n",
              "\n",
              "      async function convertToInteractive(key) {\n",
              "        const element = document.querySelector('#df-9ba57bb8-e32f-46dc-9df0-e041a7e0957a');\n",
              "        const dataTable =\n",
              "          await google.colab.kernel.invokeFunction('convertToInteractive',\n",
              "                                                    [key], {});\n",
              "        if (!dataTable) return;\n",
              "\n",
              "        const docLinkHtml = 'Like what you see? Visit the ' +\n",
              "          '<a target=\"_blank\" href=https://colab.research.google.com/notebooks/data_table.ipynb>data table notebook</a>'\n",
              "          + ' to learn more about interactive tables.';\n",
              "        element.innerHTML = '';\n",
              "        dataTable['output_type'] = 'display_data';\n",
              "        await google.colab.output.renderOutput(dataTable, element);\n",
              "        const docLink = document.createElement('div');\n",
              "        docLink.innerHTML = docLinkHtml;\n",
              "        element.appendChild(docLink);\n",
              "      }\n",
              "    </script>\n",
              "  </div>\n",
              "\n",
              "\n",
              "    <div id=\"df-02111068-4346-4356-a266-0b643c227a88\">\n",
              "      <button class=\"colab-df-quickchart\" onclick=\"quickchart('df-02111068-4346-4356-a266-0b643c227a88')\"\n",
              "                title=\"Suggest charts\"\n",
              "                style=\"display:none;\">\n",
              "\n",
              "<svg xmlns=\"http://www.w3.org/2000/svg\" height=\"24px\"viewBox=\"0 0 24 24\"\n",
              "     width=\"24px\">\n",
              "    <g>\n",
              "        <path d=\"M19 3H5c-1.1 0-2 .9-2 2v14c0 1.1.9 2 2 2h14c1.1 0 2-.9 2-2V5c0-1.1-.9-2-2-2zM9 17H7v-7h2v7zm4 0h-2V7h2v10zm4 0h-2v-4h2v4z\"/>\n",
              "    </g>\n",
              "</svg>\n",
              "      </button>\n",
              "\n",
              "<style>\n",
              "  .colab-df-quickchart {\n",
              "      --bg-color: #E8F0FE;\n",
              "      --fill-color: #1967D2;\n",
              "      --hover-bg-color: #E2EBFA;\n",
              "      --hover-fill-color: #174EA6;\n",
              "      --disabled-fill-color: #AAA;\n",
              "      --disabled-bg-color: #DDD;\n",
              "  }\n",
              "\n",
              "  [theme=dark] .colab-df-quickchart {\n",
              "      --bg-color: #3B4455;\n",
              "      --fill-color: #D2E3FC;\n",
              "      --hover-bg-color: #434B5C;\n",
              "      --hover-fill-color: #FFFFFF;\n",
              "      --disabled-bg-color: #3B4455;\n",
              "      --disabled-fill-color: #666;\n",
              "  }\n",
              "\n",
              "  .colab-df-quickchart {\n",
              "    background-color: var(--bg-color);\n",
              "    border: none;\n",
              "    border-radius: 50%;\n",
              "    cursor: pointer;\n",
              "    display: none;\n",
              "    fill: var(--fill-color);\n",
              "    height: 32px;\n",
              "    padding: 0;\n",
              "    width: 32px;\n",
              "  }\n",
              "\n",
              "  .colab-df-quickchart:hover {\n",
              "    background-color: var(--hover-bg-color);\n",
              "    box-shadow: 0 1px 2px rgba(60, 64, 67, 0.3), 0 1px 3px 1px rgba(60, 64, 67, 0.15);\n",
              "    fill: var(--button-hover-fill-color);\n",
              "  }\n",
              "\n",
              "  .colab-df-quickchart-complete:disabled,\n",
              "  .colab-df-quickchart-complete:disabled:hover {\n",
              "    background-color: var(--disabled-bg-color);\n",
              "    fill: var(--disabled-fill-color);\n",
              "    box-shadow: none;\n",
              "  }\n",
              "\n",
              "  .colab-df-spinner {\n",
              "    border: 2px solid var(--fill-color);\n",
              "    border-color: transparent;\n",
              "    border-bottom-color: var(--fill-color);\n",
              "    animation:\n",
              "      spin 1s steps(1) infinite;\n",
              "  }\n",
              "\n",
              "  @keyframes spin {\n",
              "    0% {\n",
              "      border-color: transparent;\n",
              "      border-bottom-color: var(--fill-color);\n",
              "      border-left-color: var(--fill-color);\n",
              "    }\n",
              "    20% {\n",
              "      border-color: transparent;\n",
              "      border-left-color: var(--fill-color);\n",
              "      border-top-color: var(--fill-color);\n",
              "    }\n",
              "    30% {\n",
              "      border-color: transparent;\n",
              "      border-left-color: var(--fill-color);\n",
              "      border-top-color: var(--fill-color);\n",
              "      border-right-color: var(--fill-color);\n",
              "    }\n",
              "    40% {\n",
              "      border-color: transparent;\n",
              "      border-right-color: var(--fill-color);\n",
              "      border-top-color: var(--fill-color);\n",
              "    }\n",
              "    60% {\n",
              "      border-color: transparent;\n",
              "      border-right-color: var(--fill-color);\n",
              "    }\n",
              "    80% {\n",
              "      border-color: transparent;\n",
              "      border-right-color: var(--fill-color);\n",
              "      border-bottom-color: var(--fill-color);\n",
              "    }\n",
              "    90% {\n",
              "      border-color: transparent;\n",
              "      border-bottom-color: var(--fill-color);\n",
              "    }\n",
              "  }\n",
              "</style>\n",
              "\n",
              "      <script>\n",
              "        async function quickchart(key) {\n",
              "          const quickchartButtonEl =\n",
              "            document.querySelector('#' + key + ' button');\n",
              "          quickchartButtonEl.disabled = true;  // To prevent multiple clicks.\n",
              "          quickchartButtonEl.classList.add('colab-df-spinner');\n",
              "          try {\n",
              "            const charts = await google.colab.kernel.invokeFunction(\n",
              "                'suggestCharts', [key], {});\n",
              "          } catch (error) {\n",
              "            console.error('Error during call to suggestCharts:', error);\n",
              "          }\n",
              "          quickchartButtonEl.classList.remove('colab-df-spinner');\n",
              "          quickchartButtonEl.classList.add('colab-df-quickchart-complete');\n",
              "        }\n",
              "        (() => {\n",
              "          let quickchartButtonEl =\n",
              "            document.querySelector('#df-02111068-4346-4356-a266-0b643c227a88 button');\n",
              "          quickchartButtonEl.style.display =\n",
              "            google.colab.kernel.accessAllowed ? 'block' : 'none';\n",
              "        })();\n",
              "      </script>\n",
              "    </div>\n",
              "\n",
              "    </div>\n",
              "  </div>\n"
            ],
            "application/vnd.google.colaboratory.intrinsic+json": {
              "type": "dataframe",
              "summary": "{\n  \"name\": \"display(df_nltk\",\n  \"rows\": 5,\n  \"fields\": [\n    {\n      \"column\": \"tweet\",\n      \"properties\": {\n        \"dtype\": \"string\",\n        \"num_unique_values\": 5,\n        \"samples\": [\n          \"Tommy and Georgia are so cute they actually hurt my heart :( :( :(\",\n          \"@angelhairhes i dont know what to dm you :((\",\n          \"@21oclock :((( bout to instant transmission\"\n        ],\n        \"semantic_type\": \"\",\n        \"description\": \"\"\n      }\n    },\n    {\n      \"column\": \"sentiment\",\n      \"properties\": {\n        \"dtype\": \"number\",\n        \"std\": 0,\n        \"min\": 0,\n        \"max\": 0,\n        \"num_unique_values\": 1,\n        \"samples\": [\n          0\n        ],\n        \"semantic_type\": \"\",\n        \"description\": \"\"\n      }\n    }\n  ]\n}"
            }
          },
          "metadata": {}
        }
      ],
      "source": [
        "# create a Pandas DataFrame\n",
        "df_nltk = pd.DataFrame({'tweet': tweets, 'sentiment': labels})\n",
        "print(\"First 5 rows:\")\n",
        "display(df_nltk.head())\n",
        "print(\"\\nLast 5 rows:\")\n",
        "display(df_nltk.tail())"
      ]
    },
    {
      "cell_type": "code",
      "execution_count": 13,
      "metadata": {
        "colab": {
          "base_uri": "https://localhost:8080/"
        },
        "id": "4LKElJ6z4A2r",
        "outputId": "9fe386a9-bb4f-4c56-d343-16aac9a49fe2"
      },
      "outputs": [
        {
          "output_type": "stream",
          "name": "stdout",
          "text": [
            "Total tweets loaded: 1400\n",
            "Sentiment distribution:\n",
            "sentiment\n",
            "1    700\n",
            "0    700\n",
            "Name: count, dtype: int64\n",
            "\n",
            "Sample positive tweet: #FollowFriday @France_Inte @PKuchly57 @Milipol_Paris for being top engaged members in my community this week :)\n",
            "Sample negative tweet: hopeless for tmr :(\n"
          ]
        }
      ],
      "source": [
        "print(f\"Total tweets loaded: {len(df_nltk)}\")\n",
        "print(\"Sentiment distribution:\")\n",
        "print(df_nltk['sentiment'].value_counts())\n",
        "print(\"\\nSample positive tweet:\", df_nltk[df_nltk['sentiment'] == 1].iloc[0]['tweet'])\n",
        "print(\"Sample negative tweet:\", df_nltk[df_nltk['sentiment'] == 0].iloc[0]['tweet'])"
      ]
    },
    {
      "cell_type": "code",
      "execution_count": 14,
      "metadata": {
        "colab": {
          "base_uri": "https://localhost:8080/",
          "height": 145,
          "referenced_widgets": [
            "2ce324bb260640c1a963493ff20ba6fd",
            "d46fcee5fd3e45f4a09822ccb1b78b59",
            "fdd6646339454e4498cd457a4a6738a3",
            "84c1313b4fd74fc08c1a2351f0cfe52e",
            "281fa7753b934f1abb24514118cd9ed5",
            "41587b6b66524252a1f20b293ea2be1c",
            "99d86611096d46ea9028111a65b9be49",
            "98f9c7ce22974ff782ff89a3133e5d6d",
            "e248a26100c54abdada2c82f53b399cb",
            "1b1d9537042544ccabc8eb84cccce1dc",
            "0e0817478efb4077a0c6d8bb68f216bb",
            "d503eca5848d444fb22870a7615815d6",
            "25d3479c41954dbea1cc336e52c95f6a",
            "729186f3c8c940b4a0ac3b89411933b9",
            "bfcbdacf21bd48079548daa9e268e080",
            "18d94a77359d4facbe57c9ea8be1d651",
            "747311d918a84c209e68041a248f86ff",
            "0c59082ac8da4e7ca7ebca00e98d6692",
            "7840c9c2432f40bd83d3bde0b607f6b3",
            "58d6cd5a4414412caddf60e73c3c2da5",
            "5e17f09c1ee546cc81ee1ee9e3c22767",
            "37abca6ed3dd4e0a815134a0c385431d",
            "36bbc8c7d8124d00b5ee55ce354b04d3",
            "9a05648ee25c4b2e9c833ddcbae1e2fd",
            "a579072205ba4a529d36f6764799c1eb",
            "2fbee65200974445b8faf447e78cefa1",
            "b791e11a90b64b0e83e8ed1b38152480",
            "9c3954984cdc407aa01b7e2fbe04948c",
            "6648b506dea04b29854387cd70f47ab7",
            "91292cb4039b443ea761d93fcb5b9aa9",
            "3e428ec5c6c3483ca7f9cba94e9f4c7f",
            "384e6fe27d2744b88802e4be4eabacd9",
            "2f45e672b6214815875d4728ad1cabd1",
            "ca6bab0fb7b44934b4d033a9269a5437",
            "995d5ff1441a4f22932a5b77e3015b0f",
            "7e4852bd32b74c5e9e191201ea34fde3",
            "d0b915ff81444620ab8d8664045ff41a",
            "fe6fbe26da6443d99ee18973b0f41636",
            "be9f845b8c9e44cdb7f25db25402ff01",
            "d15ec13f86dd463198c99ac253121f2c",
            "745b53375d3b479bb6f65f1e35b92cbb",
            "ba57c825a7e04bd7aa531c28c385ab2a",
            "c903b307eb57457390e73960ed152956",
            "f4a712b480d441ba800e661a1b74bb0d"
          ]
        },
        "id": "VvWfpPd95Tbc",
        "outputId": "4630125a-d1ab-453c-ae8f-e4e71bb1d4c9"
      },
      "outputs": [
        {
          "output_type": "display_data",
          "data": {
            "text/plain": [
              "tokenizer_config.json:   0%|          | 0.00/48.0 [00:00<?, ?B/s]"
            ],
            "application/vnd.jupyter.widget-view+json": {
              "version_major": 2,
              "version_minor": 0,
              "model_id": "2ce324bb260640c1a963493ff20ba6fd"
            }
          },
          "metadata": {}
        },
        {
          "output_type": "display_data",
          "data": {
            "text/plain": [
              "vocab.txt:   0%|          | 0.00/232k [00:00<?, ?B/s]"
            ],
            "application/vnd.jupyter.widget-view+json": {
              "version_major": 2,
              "version_minor": 0,
              "model_id": "d503eca5848d444fb22870a7615815d6"
            }
          },
          "metadata": {}
        },
        {
          "output_type": "display_data",
          "data": {
            "text/plain": [
              "tokenizer.json:   0%|          | 0.00/466k [00:00<?, ?B/s]"
            ],
            "application/vnd.jupyter.widget-view+json": {
              "version_major": 2,
              "version_minor": 0,
              "model_id": "36bbc8c7d8124d00b5ee55ce354b04d3"
            }
          },
          "metadata": {}
        },
        {
          "output_type": "display_data",
          "data": {
            "text/plain": [
              "config.json:   0%|          | 0.00/570 [00:00<?, ?B/s]"
            ],
            "application/vnd.jupyter.widget-view+json": {
              "version_major": 2,
              "version_minor": 0,
              "model_id": "ca6bab0fb7b44934b4d033a9269a5437"
            }
          },
          "metadata": {}
        }
      ],
      "source": [
        "# initialize BERT tokenizer\n",
        "tokenizer = BertTokenizer.from_pretrained('bert-base-uncased')  #uncased specifies the model is trained on lowercase texts"
      ]
    },
    {
      "cell_type": "code",
      "execution_count": 15,
      "metadata": {
        "colab": {
          "base_uri": "https://localhost:8080/"
        },
        "id": "j4_bB_5y-jUO",
        "outputId": "3b4a7bce-6063-436f-ce80-7f674e15a679"
      },
      "outputs": [
        {
          "output_type": "stream",
          "name": "stdout",
          "text": [
            "Maximum token length found in the dataset: 70\n"
          ]
        }
      ],
      "source": [
        "# finding the longest tweet\n",
        "max_len_tweet = max([len(tokenizer.encode(tweet, add_special_tokens=True)) for tweet in df_nltk['tweet'].to_list()])\n",
        "print(f\"Maximum token length found in the dataset: {max_len_tweet}\")"
      ]
    },
    {
      "cell_type": "code",
      "execution_count": 16,
      "metadata": {
        "id": "XBUzt5eHNTNl"
      },
      "outputs": [],
      "source": [
        "# custom dataset class for BERT\n",
        "class TweetDataset(Dataset):\n",
        "  def __init__(self, texts, labels, tokenizer, max_len):\n",
        "    self.texts = texts\n",
        "    self.labels = labels\n",
        "    self.tokenizer = tokenizer\n",
        "    self.max_len = max_len\n",
        "\n",
        "  def __len__(self):\n",
        "    return len(self.texts)\n",
        "\n",
        "  def __getitem__(self, index):\n",
        "    text = str(self.texts[index])\n",
        "    label = self.labels[index]\n",
        "\n",
        "    encoding = self.tokenizer.encode_plus(\n",
        "        text,\n",
        "        add_special_tokens = True,  # add [cls] and '[SEP] token to the text\n",
        "        max_length = self.max_len,  # pad/truncate to max_len\n",
        "        return_token_type_ids=False, # not needed for single sentence classification\n",
        "        padding = 'max_length',  # padding to max_len\n",
        "        truncation = True,     # truncate if longer than max_len\n",
        "        return_attention_mask = True,  # return attention mask\n",
        "        return_tensors = 'pt',  # return PyTorch tensors\n",
        "    )\n",
        "\n",
        "    return {\n",
        "        'text': text,\n",
        "        'input_ids': encoding['input_ids'].flatten(),\n",
        "        'attention_mask': encoding['attention_mask'].flatten(),\n",
        "        'labels': torch.tensor(label, dtype=torch.long)\n",
        "    }\n",
        "\n"
      ]
    },
    {
      "cell_type": "code",
      "execution_count": 17,
      "metadata": {
        "colab": {
          "base_uri": "https://localhost:8080/"
        },
        "id": "EqQ3IaMRBJqu",
        "outputId": "c713824c-29ba-411f-f7f9-66e2bc152cda"
      },
      "outputs": [
        {
          "output_type": "stream",
          "name": "stdout",
          "text": [
            "Training samples: 1120\n",
            "Validation samples: 280\n"
          ]
        }
      ],
      "source": [
        "max_len = 128  # enough since the tweets are generally short, even this case the longest is 118\n",
        "\n",
        "# split data into training and validation sets, in 80/20 spliting mechanism. and stratify ensures that both sets have similar proportion of +ve and -ve samples\n",
        "train_texts, val_texts, train_labels, val_labels = train_test_split(\n",
        "    df_nltk['tweet'].to_numpy(),\n",
        "    df_nltk['sentiment'].to_numpy(),\n",
        "    test_size=0.2,\n",
        "    random_state=42,\n",
        "    stratify=df_nltk['sentiment'].to_numpy()\n",
        ")\n",
        "\n",
        "# create dataset instances\n",
        "train_dataset = TweetDataset(train_texts, train_labels, tokenizer, max_len)\n",
        "val_dataset = TweetDataset(val_texts, val_labels, tokenizer, max_len)\n",
        "\n",
        "# create data loaders to batch the data, for efficient training\n",
        "batch_size = 16\n",
        "train_loader = DataLoader(train_dataset, batch_size=batch_size, shuffle=True)\n",
        "val_loader = DataLoader(val_dataset, batch_size=batch_size, shuffle=False)\n",
        "\n",
        "print(f\"Training samples: {len(train_dataset)}\")\n",
        "print(f\"Validation samples: {len(val_dataset)}\")"
      ]
    },
    {
      "cell_type": "code",
      "execution_count": 18,
      "metadata": {
        "colab": {
          "base_uri": "https://localhost:8080/"
        },
        "id": "rRmt7OGjC_04",
        "outputId": "e0ee8217-34c6-41c4-9582-3e68e1efcc7d"
      },
      "outputs": [
        {
          "output_type": "execute_result",
          "data": {
            "text/plain": [
              "{'text': '@jenxmish @wittykrushnic you are the only thing that i need :(',\n",
              " 'input_ids': tensor([  101,  1030, 15419,  2595, 15630,  2232,  1030, 25591, 21638, 20668,\n",
              "          8713,  2017,  2024,  1996,  2069,  2518,  2008,  1045,  2342,  1024,\n",
              "          1006,   102,     0,     0,     0,     0,     0,     0,     0,     0,\n",
              "             0,     0,     0,     0,     0,     0,     0,     0,     0,     0,\n",
              "             0,     0,     0,     0,     0,     0,     0,     0,     0,     0,\n",
              "             0,     0,     0,     0,     0,     0,     0,     0,     0,     0,\n",
              "             0,     0,     0,     0,     0,     0,     0,     0,     0,     0,\n",
              "             0,     0,     0,     0,     0,     0,     0,     0,     0,     0,\n",
              "             0,     0,     0,     0,     0,     0,     0,     0,     0,     0,\n",
              "             0,     0,     0,     0,     0,     0,     0,     0,     0,     0,\n",
              "             0,     0,     0,     0,     0,     0,     0,     0,     0,     0,\n",
              "             0,     0,     0,     0,     0,     0,     0,     0,     0,     0,\n",
              "             0,     0,     0,     0,     0,     0,     0,     0]),\n",
              " 'attention_mask': tensor([1, 1, 1, 1, 1, 1, 1, 1, 1, 1, 1, 1, 1, 1, 1, 1, 1, 1, 1, 1, 1, 1, 0, 0,\n",
              "         0, 0, 0, 0, 0, 0, 0, 0, 0, 0, 0, 0, 0, 0, 0, 0, 0, 0, 0, 0, 0, 0, 0, 0,\n",
              "         0, 0, 0, 0, 0, 0, 0, 0, 0, 0, 0, 0, 0, 0, 0, 0, 0, 0, 0, 0, 0, 0, 0, 0,\n",
              "         0, 0, 0, 0, 0, 0, 0, 0, 0, 0, 0, 0, 0, 0, 0, 0, 0, 0, 0, 0, 0, 0, 0, 0,\n",
              "         0, 0, 0, 0, 0, 0, 0, 0, 0, 0, 0, 0, 0, 0, 0, 0, 0, 0, 0, 0, 0, 0, 0, 0,\n",
              "         0, 0, 0, 0, 0, 0, 0, 0]),\n",
              " 'labels': tensor(0)}"
            ]
          },
          "metadata": {},
          "execution_count": 18
        }
      ],
      "source": [
        "train_dataset[0]"
      ]
    },
    {
      "cell_type": "markdown",
      "metadata": {
        "id": "P-ZEjCetOJLd"
      },
      "source": [
        "### 4\\. Initial BERT Model Training and Evaluation\n",
        "\n",
        "This section involves loading a pre-trained `bert-base-uncased` model for sequence classification and setting up the training loop. We will train the model on the `twitter_samples` dataset to get a baseline understanding of its performance on general sentiment analysis. We'll use AdamW optimizer and a linear learning rate scheduler, common practices for fine-tuning BERT.\n",
        "\n",
        "The `BertForSequenceClassification` model is chosen because our task is to classify sequences (tweets) into predefined categories (sentiments). The training loop iterates over epochs, performing forward passes, calculating loss, backpropagating gradients, and updating model weights. Evaluation on a validation set after each epoch provides insights into the model's generalization performance.\n"
      ]
    },
    {
      "cell_type": "code",
      "execution_count": 19,
      "metadata": {
        "colab": {
          "base_uri": "https://localhost:8080/",
          "height": 104,
          "referenced_widgets": [
            "3500fd00720047b681143f7eaa2c8b56",
            "0f28b1881f554eb4a451997c52cf662c",
            "0a1a9db5d9cd4904914c4a511479d0d3",
            "fb7ffc239f414a76961208c2dd74b6eb",
            "843939efb1954ff4a924c95f51951d7f",
            "76a7cbd2b4b14298a0dcff32472475e4",
            "9949578fc1ce4552abc92299ad174b20",
            "83bf672f44744148893de54d4b6f30b1",
            "cbdeae8b074047ab87aa13dc6fb9dcd9",
            "de141a32486646c3ba42cc82c3231650",
            "24c052c9d8a8426298009ffbf1368fae"
          ]
        },
        "id": "qvuuecewRpXA",
        "outputId": "3dfd94cc-4853-40cc-dcf6-bec9fa8ee33d"
      },
      "outputs": [
        {
          "output_type": "display_data",
          "data": {
            "text/plain": [
              "model.safetensors:   0%|          | 0.00/440M [00:00<?, ?B/s]"
            ],
            "application/vnd.jupyter.widget-view+json": {
              "version_major": 2,
              "version_minor": 0,
              "model_id": "3500fd00720047b681143f7eaa2c8b56"
            }
          },
          "metadata": {}
        },
        {
          "output_type": "stream",
          "name": "stderr",
          "text": [
            "Some weights of BertForSequenceClassification were not initialized from the model checkpoint at bert-base-uncased and are newly initialized: ['classifier.bias', 'classifier.weight']\n",
            "You should probably TRAIN this model on a down-stream task to be able to use it for predictions and inference.\n"
          ]
        }
      ],
      "source": [
        "# initialize the BERT with num_lables = 2 since we just have positive/negative sentiments only in this case\n",
        "\n",
        "model = BertForSequenceClassification.from_pretrained('bert-base-uncased', num_labels=2)"
      ]
    },
    {
      "cell_type": "code",
      "execution_count": 20,
      "metadata": {
        "id": "OCdPzcOiRm_5"
      },
      "outputs": [],
      "source": [
        "# Using a GPU significantly speeds up training. since the colab has its own.\n",
        "device = torch.device('cuda' if torch.cuda.is_available() else 'cpu')\n",
        "model = model.to(device)"
      ]
    },
    {
      "cell_type": "code",
      "execution_count": 21,
      "metadata": {
        "id": "AjUh5JcrOYsH"
      },
      "outputs": [],
      "source": [
        "# Define optimizer and scheduler\n",
        "EPOCHS = 5\n",
        "LEARNING_RATE = 2e-5\n",
        "\n",
        "optimizer = AdamW(model.parameters(), lr=LEARNING_RATE)\n",
        "total_steps = len(train_loader) * EPOCHS\n",
        "scheduler = get_linear_schedule_with_warmup(\n",
        "    optimizer,\n",
        "    num_warmup_steps=0, # No warm-up steps\n",
        "    num_training_steps=total_steps\n",
        ")\n",
        "\n",
        "# This function defines a single training pass over the data.\n",
        "# It performs forward pass, computes loss, backpropagates, and updates weights.\n",
        "def train_epoch(model, data_loader, optimizer, device, scheduler):\n",
        "    model.train()\n",
        "    losses = []\n",
        "    correct_predictions = 0\n",
        "\n",
        "    for batch in tqdm(data_loader, desc=\"Training\"):\n",
        "        input_ids = batch['input_ids'].to(device)\n",
        "        attention_mask = batch['attention_mask'].to(device)\n",
        "        labels = batch['labels'].to(device)\n",
        "\n",
        "        # Forward pass: model outputs logits and loss\n",
        "        outputs = model(input_ids=input_ids, attention_mask=attention_mask, labels=labels)\n",
        "        loss = outputs.loss\n",
        "        logits = outputs.logits\n",
        "        predictions = torch.argmax(logits, dim=1) # Get predicted class (0 or 1)\n",
        "\n",
        "        correct_predictions += torch.sum(predictions == labels) # Count correct predictions\n",
        "        losses.append(loss.item()) # Store loss\n",
        "\n",
        "        loss.backward() # Backpropagate error\n",
        "        torch.nn.utils.clip_grad_norm_(model.parameters(), 1.0)\n",
        "        optimizer.step()\n",
        "        scheduler.step() # Update learning rate\n",
        "        optimizer.zero_grad()\n",
        "\n",
        "    return np.mean(losses), correct_predictions.double() / len(data_loader.dataset)"
      ]
    },
    {
      "cell_type": "code",
      "execution_count": 22,
      "metadata": {
        "id": "wSWolnZJOoDa"
      },
      "outputs": [],
      "source": [
        "# This function evaluates the model's performance on a given data loader (e.g., validation set).\n",
        "# It calculates loss, accuracy, precision, recall, and F1-score without updating weights.\n",
        "def eval_model(model, data_loader, device):\n",
        "    model.eval()\n",
        "    losses = []\n",
        "    correct_predictions = 0\n",
        "    all_predictions = []\n",
        "    all_labels = []\n",
        "\n",
        "    with torch.no_grad():\n",
        "        for batch in tqdm(data_loader, desc=\"Evaluating\"):\n",
        "            input_ids = batch['input_ids'].to(device)\n",
        "            attention_mask = batch['attention_mask'].to(device)\n",
        "            labels = batch['labels'].to(device)\n",
        "\n",
        "            outputs = model(input_ids=input_ids, attention_mask=attention_mask, labels=labels)\n",
        "            loss = outputs.loss\n",
        "            logits = outputs.logits\n",
        "            predictions = torch.argmax(logits, dim=1)\n",
        "\n",
        "            correct_predictions += torch.sum(predictions == labels)\n",
        "            losses.append(loss.item())\n",
        "\n",
        "            all_predictions.extend(predictions.cpu().numpy()) # Store predictions\n",
        "            all_labels.extend(labels.cpu().numpy()) # Store true labels\n",
        "\n",
        "    avg_loss = np.mean(losses)\n",
        "    accuracy = correct_predictions.double() / len(data_loader.dataset)\n",
        "    # precision_recall_fscore_support calculates metrics.\n",
        "    # 'binary' average for 2-class classification. zero_division=0 handles cases where no true samples for a class exist.\n",
        "    precision, recall, f1, _ = precision_recall_fscore_support(all_labels, all_predictions, average='binary', zero_division=0)\n",
        "\n",
        "    return avg_loss, accuracy, precision, recall, f1"
      ]
    },
    {
      "cell_type": "code",
      "execution_count": 23,
      "metadata": {
        "colab": {
          "base_uri": "https://localhost:8080/"
        },
        "id": "duNsIUOSO3xW",
        "outputId": "c12adbec-738a-4762-c2f1-e499a6b1be4b"
      },
      "outputs": [
        {
          "output_type": "stream",
          "name": "stdout",
          "text": [
            "Training BERT model on NLTK twitter_samples for 5 epochs...\n",
            "\n",
            "Epoch 1/5\n"
          ]
        },
        {
          "output_type": "stream",
          "name": "stderr",
          "text": [
            "Training: 100%|██████████| 70/70 [00:22<00:00,  3.12it/s]\n",
            "Evaluating: 100%|██████████| 18/18 [00:01<00:00,  9.49it/s]\n"
          ]
        },
        {
          "output_type": "stream",
          "name": "stdout",
          "text": [
            "Train loss: 0.1653, Train accuracy: 0.9536\n",
            "Val loss: 0.0125, Val accuracy: 0.9964, Precision: 1.0000, Recall: 0.9929, F1-Score: 0.9964\n",
            "\n",
            "Epoch 2/5\n"
          ]
        },
        {
          "output_type": "stream",
          "name": "stderr",
          "text": [
            "Training: 100%|██████████| 70/70 [00:22<00:00,  3.17it/s]\n",
            "Evaluating: 100%|██████████| 18/18 [00:02<00:00,  8.41it/s]\n"
          ]
        },
        {
          "output_type": "stream",
          "name": "stdout",
          "text": [
            "Train loss: 0.0066, Train accuracy: 0.9982\n",
            "Val loss: 0.0006, Val accuracy: 1.0000, Precision: 1.0000, Recall: 1.0000, F1-Score: 1.0000\n",
            "\n",
            "Epoch 3/5\n"
          ]
        },
        {
          "output_type": "stream",
          "name": "stderr",
          "text": [
            "Training: 100%|██████████| 70/70 [00:22<00:00,  3.08it/s]\n",
            "Evaluating: 100%|██████████| 18/18 [00:02<00:00,  8.67it/s]\n"
          ]
        },
        {
          "output_type": "stream",
          "name": "stdout",
          "text": [
            "Train loss: 0.0070, Train accuracy: 0.9991\n",
            "Val loss: 0.0004, Val accuracy: 1.0000, Precision: 1.0000, Recall: 1.0000, F1-Score: 1.0000\n",
            "\n",
            "Epoch 4/5\n"
          ]
        },
        {
          "output_type": "stream",
          "name": "stderr",
          "text": [
            "Training: 100%|██████████| 70/70 [00:22<00:00,  3.05it/s]\n",
            "Evaluating: 100%|██████████| 18/18 [00:02<00:00,  8.18it/s]\n"
          ]
        },
        {
          "output_type": "stream",
          "name": "stdout",
          "text": [
            "Train loss: 0.0006, Train accuracy: 1.0000\n",
            "Val loss: 0.0003, Val accuracy: 1.0000, Precision: 1.0000, Recall: 1.0000, F1-Score: 1.0000\n",
            "\n",
            "Epoch 5/5\n"
          ]
        },
        {
          "output_type": "stream",
          "name": "stderr",
          "text": [
            "Training: 100%|██████████| 70/70 [00:22<00:00,  3.05it/s]\n",
            "Evaluating: 100%|██████████| 18/18 [00:02<00:00,  8.38it/s]"
          ]
        },
        {
          "output_type": "stream",
          "name": "stdout",
          "text": [
            "Train loss: 0.0005, Train accuracy: 1.0000\n",
            "Val loss: 0.0003, Val accuracy: 1.0000, Precision: 1.0000, Recall: 1.0000, F1-Score: 1.0000\n"
          ]
        },
        {
          "output_type": "stream",
          "name": "stderr",
          "text": [
            "\n"
          ]
        }
      ],
      "source": [
        "print(f\"Training BERT model on NLTK twitter_samples for {EPOCHS} epochs...\")\n",
        "history = {'train_loss': [], 'train_acc': [], 'val_loss': [], 'val_acc': [], 'val_precision': [], 'val_recall': [], 'val_f1': []}\n",
        "\n",
        "\n",
        "for epoch in range(EPOCHS):\n",
        "    print(f\"\\nEpoch {epoch + 1}/{EPOCHS}\")\n",
        "    train_loss, train_acc = train_epoch(model, train_loader, optimizer, device, scheduler)\n",
        "    val_loss, val_acc, val_precision, val_recall, val_f1 = eval_model(model, val_loader, device)\n",
        "\n",
        "    print(f\"Train loss: {train_loss:.4f}, Train accuracy: {train_acc:.4f}\")\n",
        "    print(f\"Val loss: {val_loss:.4f}, Val accuracy: {val_acc:.4f}, Precision: {val_precision:.4f}, Recall: {val_recall:.4f}, F1-Score: {val_f1:.4f}\")\n",
        "\n",
        "    # Store results in history dictionary\n",
        "    history['train_loss'].append(train_loss)\n",
        "    history['train_acc'].append(train_acc.item())\n",
        "    history['val_loss'].append(val_loss)\n",
        "    history['val_acc'].append(val_acc.item())\n",
        "    history['val_precision'].append(val_precision)\n",
        "    history['val_recall'].append(val_recall)\n",
        "    history['val_f1'].append(val_f1)"
      ]
    },
    {
      "cell_type": "markdown",
      "metadata": {
        "id": "ur9lBWpyPrAI"
      },
      "source": [
        "### 5\\. Initial Sentiment Analysis with Custom Sentences\n",
        "\n",
        "Before fine-tuning on synthetic sustainability data, we'll test our current model with custom sentences related to eco-friendly products. This will give us a baseline understanding of how well the general BERT model interprets sustainability-specific sentiments and highlight the need for specialized fine-tuning.\n",
        "\n",
        "This step involves creating a prediction function that takes a text string, the trained model, tokenizer, and device as input. It tokenizes the input text, passes it through the model, and converts the model's raw output (logits) into probability scores and a final sentiment prediction (Positive or Negative).\n"
      ]
    },
    {
      "cell_type": "code",
      "execution_count": 24,
      "metadata": {
        "id": "IK_zRi2bP3VB"
      },
      "outputs": [],
      "source": [
        "def predict_sentiment(text, model, tokenizer, device, max_len=128):\n",
        "    model.eval()\n",
        "    # Encode the input text using the BERT tokenizer\n",
        "    encoding = tokenizer.encode_plus(\n",
        "        text,\n",
        "        add_special_tokens=True,\n",
        "        max_length=max_len,\n",
        "        return_token_type_ids=False,\n",
        "        padding='max_length',\n",
        "        truncation=True,\n",
        "        return_attention_mask=True,\n",
        "        return_tensors='pt',\n",
        "    )\n",
        "\n",
        "    input_ids = encoding['input_ids'].to(device)\n",
        "    attention_mask = encoding['attention_mask'].to(device)\n",
        "\n",
        "    with torch.no_grad():\n",
        "        outputs = model(input_ids=input_ids, attention_mask=attention_mask)\n",
        "        logits = outputs.logits\n",
        "        probabilities = torch.softmax(logits, dim=1)\n",
        "        _, prediction = torch.max(probabilities, dim=1)\n",
        "\n",
        "    sentiment_map = {0: 'Negative', 1: 'Positive'}\n",
        "    return sentiment_map[prediction.item()], probabilities.flatten()[prediction.item()].item() # Return sentiment and its probability\n"
      ]
    },
    {
      "cell_type": "code",
      "execution_count": 25,
      "metadata": {
        "colab": {
          "base_uri": "https://localhost:8080/"
        },
        "id": "ZVyZmmX7P8M-",
        "outputId": "99bdd1ed-cd86-4b60-c1a1-51946de32677"
      },
      "outputs": [
        {
          "output_type": "stream",
          "name": "stdout",
          "text": [
            "\n",
            "--- Initial Sentiment Predictions on Custom Sentences ---\n",
            "Sentence: 'This degradable plastics took more than 2 years to degrade' -> Predicted Sentiment: Positive (Probability: 0.8428)\n",
            "Sentence: 'This plastic bottle is degrading really fast' -> Predicted Sentiment: Positive (Probability: 0.9720)\n",
            "Sentence: 'Eco-friendly products are usually very expensive.' -> Predicted Sentiment: Positive (Probability: 0.8742)\n",
            "Sentence: 'I love how this sustainable packaging reduces waste.' -> Predicted Sentiment: Positive (Probability: 0.9524)\n",
            "Sentence: 'The carbon footprint of this product is too high.' -> Predicted Sentiment: Positive (Probability: 0.8171)\n",
            "Sentence: 'This product is amazing and totally recyclable!' -> Predicted Sentiment: Positive (Probability: 0.9843)\n"
          ]
        }
      ],
      "source": [
        "# Test custom sentences (as per task description)\n",
        "custom_sentences = [\n",
        "    \"This degradable plastics took more than 2 years to degrade\",\n",
        "    \"This plastic bottle is degrading really fast\",\n",
        "    \"Eco-friendly products are usually very expensive.\",\n",
        "    \"I love how this sustainable packaging reduces waste.\",\n",
        "    \"The carbon footprint of this product is too high.\",\n",
        "    \"This product is amazing and totally recyclable!\"\n",
        "]\n",
        "\n",
        "print(\"\\n--- Initial Sentiment Predictions on Custom Sentences ---\")\n",
        "for sentence in custom_sentences:\n",
        "    sentiment, prob = predict_sentiment(sentence, model, tokenizer, device)\n",
        "    print(f\"Sentence: '{sentence}' -> Predicted Sentiment: {sentiment} (Probability: {prob:.4f})\")"
      ]
    },
    {
      "cell_type": "markdown",
      "source": [
        "#### Key Observations:\n",
        "- The model **over-predicts Positive sentiment** for sustainability-critical phrases, likely due to:\n",
        "  - Bias in the base BERT model (trained on general text, not eco-specific feedback).\n",
        "  - Words like *degradable* or *eco-friendly* are often positive in generic datasets but need nuanced context."
      ],
      "metadata": {
        "id": "heyXtvEig0ln"
      }
    },
    {
      "cell_type": "markdown",
      "metadata": {
        "id": "YGwz07AjR6gC"
      },
      "source": [
        "### 6\\. Synthetic Data Generation for Sustainability Sentiments\n",
        "\n",
        "To make the BERT model more sensitive to sustainability-related language, we generate a synthetic dataset of 500 positive, 500 negative, and 500 neutral eco-tweets. This step is crucial for fine-tuning, as it provides the model with specific examples of how sustainability concepts are expressed with different sentiments.\n",
        "\n",
        "The `generate_eco_tweets` function uses predefined templates and lists of relevant terms (e.g., `eco_products`, `sustainable_features`, `negative_impact`) to construct new, unique sentences. This method allows for controlled generation of data that is specifically tailored to the domain of sustainable products and covers positive, negative, and neutral sentiments.\n"
      ]
    },
    {
      "cell_type": "code",
      "execution_count": 26,
      "metadata": {
        "id": "UD0ymYMwXmhg"
      },
      "outputs": [],
      "source": [
        "# Function to generate synthetic eco-tweets\n",
        "def generate_eco_tweets(num_tweets, sentiment_type):\n",
        "    tweets = []\n",
        "\n",
        "    for _ in tqdm(range(num_tweets), desc=f\"Generating {sentiment_type} tweets\"):\n",
        "      if sentiment_type == 'positive':\n",
        "          templates = [\n",
        "              \"I love how this [eco_product] helps the environment!\",\n",
        "              \"This [sustainable_feature] makes [product] truly amazing.\",\n",
        "              \"So happy with my new [eco_product] – reducing waste and living green!\",\n",
        "              \"Finally, a [product] that's both effective and [eco_feature]!\",\n",
        "              \"This [eco_product] is a game-changer for [environmental_benefit].\",\n",
        "              \"Feeling good about supporting brands with [sustainable_practice] like this [product].\",\n",
        "              \"Highly recommend this [eco_product] for its [positive_attribute] and environmental impact.\",\n",
        "              \"The [sustainable_material] of this [product] is fantastic!\",\n",
        "              \"Proud to use this [product] with its [positive_environmental_impact]!\",\n",
        "              \"This [product] sets a new standard for [eco_friendly_design].\"\n",
        "          ]\n",
        "          eco_products = [\"compostable packaging\", \"reusable water bottle\", \"bamboo toothbrush\", \"solar charger\", \"electric vehicle\", \"biodegradable soap\", \"upcycled furniture\", \"recycled clothing\", \"organic cotton t-shirt\", \"refillable cleaning product\"]\n",
        "          sustainable_features = [\"zero-waste design\", \"energy-efficient motor\", \"plant-based ingredients\", \"carbon-neutral manufacturing\", \"fair trade sourcing\", \"durable and long-lasting\", \"responsibly sourced materials\", \"closed-loop system\", \"water-saving technology\", \"minimalist design\"]\n",
        "          products = [\"shampoo\", \"clothing\", \"phone case\", \"detergent\", \"sneakers\", \"bag\", \"car\", \"computer\", \"kitchenware\", \"toy\"]\n",
        "          environmental_benefits = [\"reducing plastic pollution\", \"saving energy\", \"conserving water\", \"minimizing carbon emissions\", \"protecting ecosystems\"]\n",
        "          positive_attributes = [\"durability\", \"innovation\", \"design\", \"effectiveness\", \"eco-consciousness\"]\n",
        "          sustainable_materials = [\"bamboo\", \"recycled plastic\", \"hemp\", \"organic cotton\", \"cork\", \"recycled glass\", \"mushroom leather\"]\n",
        "          positive_environmental_impact = [\"low carbon footprint\", \"no harmful chemicals\", \"supports biodiversity\", \"saves natural resources\", \"reduces landfill waste\"]\n",
        "          eco_friendly_design = [\"eco-friendly design\", \"sustainable production\", \"circular economy principles\"]\n",
        "\n",
        "          template = random.choice(templates)\n",
        "          tweet = template.replace(\"[eco_product]\", random.choice(eco_products)) \\\n",
        "                          .replace(\"[sustainable_feature]\", random.choice(sustainable_features)) \\\n",
        "                          .replace(\"[product]\", random.choice(products)) \\\n",
        "                          .replace(\"[environmental_benefit]\", random.choice(environmental_benefits)) \\\n",
        "                          .replace(\"[positive_attribute]\", random.choice(positive_attributes)) \\\n",
        "                          .replace(\"[sustainable_material]\", random.choice(sustainable_materials)) \\\n",
        "                          .replace(\"[positive_environmental_impact]\", random.choice(positive_environmental_impact)) \\\n",
        "                          .replace(\"[eco_friendly_design]\", random.choice(eco_friendly_design))\n",
        "          tweets.append(tweet)\n",
        "\n",
        "      # for negative eco-tweets\n",
        "      elif sentiment_type == 'negative':\n",
        "          templates = [\n",
        "              \"This [eco_product] claims to be green but it's not working as expected.\",\n",
        "              \"Disappointed with the [sustainable_feature] of this [product] – it's still [negative_impact].\",\n",
        "              \"Why is this [eco_product] so [negative_attribute]? Not worth the high price.\",\n",
        "              \"The [environmental_claim] of this [product] feels like greenwashing.\",\n",
        "              \"This so-called [eco_product] broke after a week. What a waste!\",\n",
        "              \"I'm concerned about the [negative_impact] of this [product] despite its eco claims.\",\n",
        "              \"Another [product] with [sustainable_material] that doesn't hold up.\",\n",
        "              \"The [eco_friendly_design] of this [product] led to poor performance.\",\n",
        "              \"Too many [harmful_chemicals] even in supposedly [eco_product].\",\n",
        "              \"This [product] is not as [eco_feature] as they claim.\"\n",
        "          ]\n",
        "          eco_products = [\"biodegradable plastic\", \"rechargeable battery\", \"compostable cutlery\", \"recycled paper\", \"organic cotton shirt\", \"bamboo straw\", \"solar panel\", \"electric car\", \"eco-friendly paint\", \"water-saving showerhead\"]\n",
        "          sustainable_features = [\"packaging\", \"material\", \"durability\", \"environmental claims\", \"production process\"]\n",
        "          products = [\"bag\", \"toy\", \"utensil\", \"box\", \"t-shirt\", \"cup\", \"device\", \"vehicle\", \"can\", \"fixture\"]\n",
        "          negative_impact = [\"still polluting\", \"not lasting\", \"too expensive\", \"hard to dispose of\", \"not truly sustainable\"]\n",
        "          negative_attribute = [\"flimsy\", \"expensive\", \"ineffective\", \"ugly\", \"short-lived\"]\n",
        "          environmental_claim = [\"eco-friendly label\", \"sustainable sourcing\", \"biodegradable claim\", \"compostable claim\", \"recyclable packaging\"]\n",
        "          sustainable_material = [\"recycled plastic\", \"plant-based material\", \"organic cotton\", \"bamboo\"]\n",
        "          eco_friendly_design = [\"eco-friendly design\", \"sustainable production\", \"circular economy principles\"]\n",
        "          harmful_chemicals = [\"hidden chemicals\", \"toxic dyes\", \"microplastics\"]\n",
        "          eco_feature = [\"green\", \"sustainable\", \"ethical\"]\n",
        "\n",
        "          template = random.choice(templates)\n",
        "          tweet = template.replace(\"[eco_product]\", random.choice(eco_products)) \\\n",
        "                          .replace(\"[sustainable_feature]\", random.choice(sustainable_features)) \\\n",
        "                          .replace(\"[product]\", random.choice(products)) \\\n",
        "                          .replace(\"[negative_impact]\", random.choice(negative_impact)) \\\n",
        "                          .replace(\"[negative_attribute]\", random.choice(negative_attribute)) \\\n",
        "                          .replace(\"[environmental_claim]\", random.choice(environmental_claim)) \\\n",
        "                          .replace(\"[sustainable_material]\", random.choice(sustainable_material)) \\\n",
        "                          .replace(\"[eco_friendly_design]\", random.choice(eco_friendly_design)) \\\n",
        "                          .replace(\"[harmful_chemicals]\", random.choice(harmful_chemicals)) \\\n",
        "                          .replace(\"[eco_feature]\", random.choice(eco_feature))\n",
        "          tweets.append(tweet)\n",
        "\n",
        "      # for neutral eco-tweets\n",
        "      elif sentiment_type == 'neutral':\n",
        "          templates = [\n",
        "              \"This [product] uses [sustainable_material].\",\n",
        "              \"The [eco_product] is made by [company_name].\",\n",
        "              \"Information about the [eco_product] manufacturing process is available online.\",\n",
        "              \"Reviewing the specifications for this [product] with [eco_feature].\",\n",
        "              \"Considering a [eco_product] for general use.\",\n",
        "              \"The [sustainable_feature] of this [product] is listed as a key characteristic.\",\n",
        "              \"This [product] aims for [environmental_goal].\",\n",
        "              \"Details about [sustainable_material] in [product] are provided.\",\n",
        "              \"Looking into the [environmental_impact] of [product].\",\n",
        "              \"A discussion about [eco_friendly_aspect] of [product] is ongoing.\"\n",
        "          ]\n",
        "          products = [\"phone\", \"desk\", \"shirt\", \"bag\", \"chair\", \"bottle\", \"device\", \"car\", \"table\", \"container\"]\n",
        "          sustainable_material = [\"recycled plastic\", \"bamboo\", \"organic cotton\", \"renewable resources\", \"responsibly sourced wood\"]\n",
        "          eco_product = [\"eco-friendly alternative\", \"sustainable option\", \"green product\"]\n",
        "          company_name = [\"EcoCorp\", \"GreenTech\", \"Sustainable Innovations\", \"PurePlanet\", \"TerraGoods\"]\n",
        "          eco_feature = [\"biodegradable components\", \"recyclable parts\", \"low energy consumption\"]\n",
        "          environmental_goal = [\"waste reduction\", \"carbon neutrality\", \"water conservation\"]\n",
        "          environmental_impact = [\"carbon footprint\", \"material sourcing\", \"disposal methods\"]\n",
        "          eco_friendly_aspect = [\"sustainable packaging\", \"recycled content\", \"energy efficiency\"]\n",
        "\n",
        "          template = random.choice(templates)\n",
        "          tweet = template.replace(\"[product]\", random.choice(products)) \\\n",
        "                          .replace(\"[sustainable_material]\", random.choice(sustainable_material)) \\\n",
        "                          .replace(\"[eco_product]\", random.choice(eco_product)) \\\n",
        "                          .replace(\"[company_name]\", random.choice(company_name)) \\\n",
        "                          .replace(\"[eco_feature]\", random.choice(eco_feature)) \\\n",
        "                          .replace(\"[environmental_goal]\", random.choice(environmental_goal)) \\\n",
        "                          .replace(\"[environmental_impact]\", random.choice(environmental_impact)) \\\n",
        "                          .replace(\"[eco_friendly_aspect]\", random.choice(eco_friendly_aspect))\n",
        "          tweets.append(tweet)\n",
        "    return tweets"
      ]
    },
    {
      "cell_type": "code",
      "execution_count": 27,
      "metadata": {
        "id": "a9gBwZlfXoH5",
        "colab": {
          "base_uri": "https://localhost:8080/"
        },
        "outputId": "20ca8650-4ec4-4a4c-f6a2-cf71b46d6341"
      },
      "outputs": [
        {
          "output_type": "stream",
          "name": "stderr",
          "text": [
            "Generating positive tweets: 100%|██████████| 500/500 [00:00<00:00, 130484.82it/s]\n",
            "Generating negative tweets: 100%|██████████| 500/500 [00:00<00:00, 117244.48it/s]\n",
            "Generating neutral tweets: 100%|██████████| 500/500 [00:00<00:00, 139931.41it/s]\n"
          ]
        }
      ],
      "source": [
        "# Generate synthetic data\n",
        "num_synthetic_tweets = 500\n",
        "positive_eco_tweets = generate_eco_tweets(num_synthetic_tweets, 'positive')\n",
        "negative_eco_tweets = generate_eco_tweets(num_synthetic_tweets, 'negative')\n",
        "neutral_eco_tweets = generate_eco_tweets(num_synthetic_tweets, 'neutral')"
      ]
    },
    {
      "cell_type": "code",
      "execution_count": 28,
      "metadata": {
        "id": "j0QNaw6AX3ER",
        "colab": {
          "base_uri": "https://localhost:8080/"
        },
        "outputId": "548a6328-b6ec-46b2-9c1c-16096e33f884"
      },
      "outputs": [
        {
          "output_type": "stream",
          "name": "stdout",
          "text": [
            "Length of positive_eco_tweets: 500\n",
            "Length of negative_eco_tweets: 500\n",
            "Length of neutral_eco_tweets: 500\n",
            "Total synthetic tweets generated: 1500\n",
            "\n",
            "Synthetic sentiment distribution:\n",
            "sentiment\n",
            "1    500\n",
            "0    500\n",
            "2    500\n",
            "Name: count, dtype: int64\n",
            "\n",
            "Sample synthetic positive tweet: This fair trade sourcing makes detergent truly amazing.\n",
            "Sample synthetic negative tweet: I'm concerned about the hard to dispose of of this device despite its eco claims.\n",
            "Sample synthetic neutral tweet: Details about bamboo in chair are provided.\n"
          ]
        }
      ],
      "source": [
        "# Create a DataFrame for synthetic data\n",
        "# Assign numerical labels: 0 for Negative, 1 for Positive, 2 for Neutral\n",
        "\n",
        "print(f\"Length of positive_eco_tweets: {len(positive_eco_tweets)}\")\n",
        "print(f\"Length of negative_eco_tweets: {len(negative_eco_tweets)}\")\n",
        "print(f\"Length of neutral_eco_tweets: {len(neutral_eco_tweets)}\")\n",
        "\n",
        "synthetic_df = pd.DataFrame({\n",
        "    'tweet': positive_eco_tweets + negative_eco_tweets + neutral_eco_tweets,\n",
        "    'sentiment': [1] * num_synthetic_tweets + [0] * num_synthetic_tweets + [2] * num_synthetic_tweets\n",
        "})\n",
        "\n",
        "print(f\"Total synthetic tweets generated: {len(synthetic_df)}\")\n",
        "print(\"\\nSynthetic sentiment distribution:\")\n",
        "print(synthetic_df['sentiment'].value_counts())\n",
        "print(\"\\nSample synthetic positive tweet:\", synthetic_df[synthetic_df['sentiment'] == 1].iloc[0]['tweet'])\n",
        "print(\"Sample synthetic negative tweet:\", synthetic_df[synthetic_df['sentiment'] == 0].iloc[0]['tweet'])\n",
        "print(\"Sample synthetic neutral tweet:\", synthetic_df[synthetic_df['sentiment'] == 2].iloc[0]['tweet'])"
      ]
    },
    {
      "cell_type": "code",
      "execution_count": 29,
      "metadata": {
        "id": "zSBBV4T_X6_4",
        "colab": {
          "base_uri": "https://localhost:8080/"
        },
        "outputId": "dc5073f2-6419-4f5f-d330-239de7fd0d4e"
      },
      "outputs": [
        {
          "output_type": "stream",
          "name": "stdout",
          "text": [
            "\n",
            "Synthetic training samples: 1200\n",
            "Synthetic validation samples: 300\n"
          ]
        }
      ],
      "source": [
        "# Prepare synthetic data for BERT fine-tuning\n",
        "train_synthetic_texts, val_synthetic_texts, train_synthetic_labels, val_synthetic_labels = train_test_split(\n",
        "    synthetic_df['tweet'].to_numpy(),\n",
        "    synthetic_df['sentiment'].to_numpy(),\n",
        "    test_size=0.2,\n",
        "    random_state=42,\n",
        "    stratify=synthetic_df['sentiment'].to_numpy()\n",
        ")\n",
        "\n",
        "# Create Dataset and DataLoader instances for the synthetic data.\n",
        "train_synthetic_dataset = TweetDataset(train_synthetic_texts, train_synthetic_labels, tokenizer, max_len)\n",
        "val_synthetic_dataset = TweetDataset(val_synthetic_texts, val_synthetic_labels, tokenizer, max_len)\n",
        "\n",
        "train_synthetic_loader = DataLoader(train_synthetic_dataset, batch_size=batch_size, shuffle=True)\n",
        "val_synthetic_loader = DataLoader(val_synthetic_dataset, batch_size=batch_size, shuffle=False)\n",
        "\n",
        "print(f\"\\nSynthetic training samples: {len(train_synthetic_dataset)}\")\n",
        "print(f\"Synthetic validation samples: {len(val_synthetic_dataset)}\")"
      ]
    },
    {
      "cell_type": "markdown",
      "metadata": {
        "id": "JvRhPcZlX9bi"
      },
      "source": [
        "### 7\\. Fine-Tuning BERT on Synthetic Sustainability Data\n",
        "\n",
        "Now, we will fine-tune the previously trained BERT model using the synthetically generated dataset. This step adapts the model's understanding to the specific language and nuances of sustainability-related consumer feedback, aiming to improve its accuracy in classifying such sentiments. The model will now predict among 3 labels (negative, positive, neutral).\n",
        "\n",
        "Since we are adding a 'neutral' class, the `num_labels` parameter for `BertForSequenceClassification` needs to be changed from 2 to 3. The training process remains similar to the initial training, but it's applied to the new synthetic dataset. The evaluation function is also adapted to handle multi-class classification by changing the `average` parameter for precision, recall, and f1-score calculation to `weighted`.\n"
      ]
    },
    {
      "cell_type": "code",
      "execution_count": 30,
      "metadata": {
        "id": "dXluIoQRYCmr",
        "colab": {
          "base_uri": "https://localhost:8080/"
        },
        "outputId": "4efa13ca-5d1a-4c65-9930-713cfb3b3285"
      },
      "outputs": [
        {
          "output_type": "stream",
          "name": "stderr",
          "text": [
            "Some weights of BertForSequenceClassification were not initialized from the model checkpoint at bert-base-uncased and are newly initialized: ['classifier.bias', 'classifier.weight']\n",
            "You should probably TRAIN this model on a down-stream task to be able to use it for predictions and inference.\n"
          ]
        }
      ],
      "source": [
        "# Re-load model for fine-tuning with 3 labels (Positive, Negative, Neutral)\n",
        "\n",
        "fine_tuned_model = BertForSequenceClassification.from_pretrained('bert-base-uncased', num_labels=3)\n",
        "fine_tuned_model = fine_tuned_model.to(device)"
      ]
    },
    {
      "cell_type": "code",
      "source": [
        "epochs = 5\n",
        "fine_tune_learning_rate = 2e-5\n",
        "\n",
        "fine_tune_optimizer = AdamW(fine_tuned_model.parameters(), lr=fine_tune_learning_rate)\n",
        "fine_tune_total_steps = len(train_synthetic_loader) * epochs\n",
        "fine_tune_scheduler = get_linear_schedule_with_warmup(\n",
        "    fine_tune_optimizer,\n",
        "    num_warmup_steps=0,\n",
        "    num_training_steps=fine_tune_total_steps\n",
        ")\n",
        "\n",
        "# Function to train one epoch (re-using the previous function, as it's general enough)\n",
        "def train_epoch(model, data_loader, optimizer, device, scheduler):\n",
        "    model.train()\n",
        "    losses = []\n",
        "    correct_predictions = 0\n",
        "\n",
        "    for batch in tqdm(data_loader, desc=\"Training\"):\n",
        "        input_ids = batch['input_ids'].to(device)\n",
        "        attention_mask = batch['attention_mask'].to(device)\n",
        "        labels = batch['labels'].to(device)\n",
        "\n",
        "        # Forward pass: model outputs logits and loss\n",
        "        outputs = model(input_ids=input_ids, attention_mask=attention_mask, labels=labels)\n",
        "        loss = outputs.loss\n",
        "        logits = outputs.logits\n",
        "        predictions = torch.argmax(logits, dim=1)\n",
        "\n",
        "        correct_predictions += torch.sum(predictions == labels)\n",
        "        losses.append(loss.item()) # Store loss\n",
        "\n",
        "        loss.backward()\n",
        "        torch.nn.utils.clip_grad_norm_(model.parameters(), 1.0)\n",
        "        optimizer.step()\n",
        "        scheduler.step()\n",
        "        optimizer.zero_grad()\n",
        "\n",
        "    return np.mean(losses), correct_predictions.double() / len(data_loader.dataset)"
      ],
      "metadata": {
        "id": "ck7Ssx6IQ5m0"
      },
      "execution_count": 31,
      "outputs": []
    },
    {
      "cell_type": "code",
      "execution_count": 32,
      "metadata": {
        "id": "wrBs4_9daETi"
      },
      "outputs": [],
      "source": [
        "# Function to evaluate the model (re-using the previous function, but with average='weighted' for multiclass)\n",
        "def eval_model_multiclass(model, data_loader, device):\n",
        "    model.eval()\n",
        "    losses = []\n",
        "    correct_predictions = 0\n",
        "    all_predictions = []\n",
        "    all_labels = []\n",
        "\n",
        "    with torch.no_grad():\n",
        "        for batch in tqdm(data_loader, desc=\"Evaluating\"):\n",
        "            input_ids = batch['input_ids'].to(device)\n",
        "            attention_mask = batch['attention_mask'].to(device)\n",
        "            labels = batch['labels'].to(device)\n",
        "\n",
        "            outputs = model(input_ids=input_ids, attention_mask=attention_mask, labels=labels)\n",
        "            loss = outputs.loss\n",
        "            logits = outputs.logits\n",
        "            predictions = torch.argmax(logits, dim=1)\n",
        "\n",
        "            correct_predictions += torch.sum(predictions == labels)\n",
        "            losses.append(loss.item())\n",
        "\n",
        "            all_predictions.extend(predictions.cpu().numpy())\n",
        "            all_labels.extend(labels.cpu().numpy())\n",
        "\n",
        "    avg_loss = np.mean(losses)\n",
        "    accuracy = correct_predictions.double() / len(data_loader.dataset)\n",
        "    # Use 'weighted' average for precision, recall, f1 for multiclass classification\n",
        "    precision, recall, f1, _ = precision_recall_fscore_support(all_labels, all_predictions, average='weighted', zero_division=0)\n",
        "\n",
        "    return avg_loss, accuracy, precision, recall, f1\n"
      ]
    },
    {
      "cell_type": "code",
      "execution_count": 33,
      "metadata": {
        "id": "8YWOZAOCaL8d",
        "colab": {
          "base_uri": "https://localhost:8080/"
        },
        "outputId": "7d7203af-7e8f-40ed-be85-f7ff59a959e7"
      },
      "outputs": [
        {
          "output_type": "stream",
          "name": "stdout",
          "text": [
            "Fine-tuning BERT model on synthetic eco-tweets for 5 epochs...\n",
            "\n",
            "Fine-tune Epoch 1/5\n"
          ]
        },
        {
          "output_type": "stream",
          "name": "stderr",
          "text": [
            "Training: 100%|██████████| 75/75 [00:24<00:00,  3.10it/s]\n",
            "Evaluating: 100%|██████████| 19/19 [00:02<00:00,  8.70it/s]\n"
          ]
        },
        {
          "output_type": "stream",
          "name": "stdout",
          "text": [
            "Fine-tune Train loss: 0.3745, Train accuracy: 0.8967\n",
            "Fine-tune Val loss: 0.0075, Val accuracy: 1.0000, Precision: 1.0000, Recall: 1.0000, F1-Score: 1.0000\n",
            "\n",
            "Fine-tune Epoch 2/5\n"
          ]
        },
        {
          "output_type": "stream",
          "name": "stderr",
          "text": [
            "Training: 100%|██████████| 75/75 [00:24<00:00,  3.04it/s]\n",
            "Evaluating: 100%|██████████| 19/19 [00:02<00:00,  7.42it/s]\n"
          ]
        },
        {
          "output_type": "stream",
          "name": "stdout",
          "text": [
            "Fine-tune Train loss: 0.0052, Train accuracy: 1.0000\n",
            "Fine-tune Val loss: 0.0023, Val accuracy: 1.0000, Precision: 1.0000, Recall: 1.0000, F1-Score: 1.0000\n",
            "\n",
            "Fine-tune Epoch 3/5\n"
          ]
        },
        {
          "output_type": "stream",
          "name": "stderr",
          "text": [
            "Training: 100%|██████████| 75/75 [00:24<00:00,  3.07it/s]\n",
            "Evaluating: 100%|██████████| 19/19 [00:02<00:00,  8.57it/s]\n"
          ]
        },
        {
          "output_type": "stream",
          "name": "stdout",
          "text": [
            "Fine-tune Train loss: 0.0027, Train accuracy: 1.0000\n",
            "Fine-tune Val loss: 0.0015, Val accuracy: 1.0000, Precision: 1.0000, Recall: 1.0000, F1-Score: 1.0000\n",
            "\n",
            "Fine-tune Epoch 4/5\n"
          ]
        },
        {
          "output_type": "stream",
          "name": "stderr",
          "text": [
            "Training: 100%|██████████| 75/75 [00:24<00:00,  3.06it/s]\n",
            "Evaluating: 100%|██████████| 19/19 [00:02<00:00,  8.58it/s]\n"
          ]
        },
        {
          "output_type": "stream",
          "name": "stdout",
          "text": [
            "Fine-tune Train loss: 0.0019, Train accuracy: 1.0000\n",
            "Fine-tune Val loss: 0.0012, Val accuracy: 1.0000, Precision: 1.0000, Recall: 1.0000, F1-Score: 1.0000\n",
            "\n",
            "Fine-tune Epoch 5/5\n"
          ]
        },
        {
          "output_type": "stream",
          "name": "stderr",
          "text": [
            "Training: 100%|██████████| 75/75 [00:24<00:00,  3.08it/s]\n",
            "Evaluating: 100%|██████████| 19/19 [00:02<00:00,  7.96it/s]"
          ]
        },
        {
          "output_type": "stream",
          "name": "stdout",
          "text": [
            "Fine-tune Train loss: 0.0017, Train accuracy: 1.0000\n",
            "Fine-tune Val loss: 0.0011, Val accuracy: 1.0000, Precision: 1.0000, Recall: 1.0000, F1-Score: 1.0000\n"
          ]
        },
        {
          "output_type": "stream",
          "name": "stderr",
          "text": [
            "\n"
          ]
        }
      ],
      "source": [
        "print(f\"Fine-tuning BERT model on synthetic eco-tweets for {epochs} epochs...\")\n",
        "fine_tune_history = {'train_loss': [], 'train_acc': [], 'val_loss': [], 'val_acc': [], 'val_precision': [], 'val_recall': [], 'val_f1': []}\n",
        "\n",
        "# Fine-tuning loop\n",
        "for epoch in range(epochs):\n",
        "    print(f\"\\nFine-tune Epoch {epoch + 1}/{epochs}\")\n",
        "    train_loss, train_acc = train_epoch(fine_tuned_model, train_synthetic_loader, fine_tune_optimizer, device, fine_tune_scheduler)\n",
        "    val_loss, val_acc, val_precision, val_recall, val_f1 = eval_model_multiclass(fine_tuned_model, val_synthetic_loader, device)\n",
        "\n",
        "    print(f\"Fine-tune Train loss: {train_loss:.4f}, Train accuracy: {train_acc:.4f}\")\n",
        "    print(f\"Fine-tune Val loss: {val_loss:.4f}, Val accuracy: {val_acc:.4f}, Precision: {val_precision:.4f}, Recall: {val_recall:.4f}, F1-Score: {val_f1:.4f}\")\n",
        "\n",
        "    # Store results in history dictionary\n",
        "    fine_tune_history['train_loss'].append(train_loss)\n",
        "    fine_tune_history['train_acc'].append(train_acc.item())\n",
        "    fine_tune_history['val_loss'].append(val_loss)\n",
        "    fine_tune_history['val_acc'].append(val_acc.item())\n",
        "    fine_tune_history['val_precision'].append(val_precision)\n",
        "    fine_tune_history['val_recall'].append(val_recall)\n",
        "    fine_tune_history['val_f1'].append(val_f1)\n"
      ]
    },
    {
      "cell_type": "markdown",
      "metadata": {
        "id": "LeoJUOJsaOpU"
      },
      "source": [
        "### 8\\. Re-analysis of Custom Sentences with Fine-Tuned Model and Comparison\n",
        "\n",
        "Finally, we re-evaluate the same custom sentences using the fine-tuned BERT model. This allows us to directly compare the predictions from the general BERT model and the sustainability-tuned BERT model, observing any improvements in sentiment classification, especially for the nuanced eco-friendly product feedback.\n",
        "\n",
        "The prediction function is updated to reflect the three sentiment classes (Negative, Positive, Neutral). By comparing the output of this section with the \"Initial Sentiment Analysis with Custom Sentences\" section (Section 5), we can assess the impact of fine-tuning on sustainability-specific sentiment recognition.\n"
      ]
    },
    {
      "cell_type": "code",
      "execution_count": 34,
      "metadata": {
        "id": "PpNTlWe2aQYv"
      },
      "outputs": [],
      "source": [
        "def predict_sentiment_fine_tuned(text, model, tokenizer, device, max_len=128):\n",
        "    model.eval()\n",
        "    encoding = tokenizer.encode_plus(\n",
        "        text,\n",
        "        add_special_tokens=True,\n",
        "        max_length=max_len,\n",
        "        return_token_type_ids=False,\n",
        "        padding='max_length',\n",
        "        truncation=True,\n",
        "        return_attention_mask=True,\n",
        "        return_tensors='pt',\n",
        "    )\n",
        "\n",
        "    input_ids = encoding['input_ids'].to(device)\n",
        "    attention_mask = encoding['attention_mask'].to(device)\n",
        "\n",
        "    with torch.no_grad():\n",
        "        outputs = model(input_ids=input_ids, attention_mask=attention_mask)\n",
        "        logits = outputs.logits\n",
        "        probabilities = torch.softmax(logits, dim=1) # Get probabilities for all 3 classes\n",
        "        _, prediction = torch.max(probabilities, dim=1) # Get the predicted class, taking the max among these\n",
        "\n",
        "    sentiment_map_fine_tuned = {0: 'Negative', 1: 'Positive', 2: 'Neutral'}\n",
        "    return sentiment_map_fine_tuned[prediction.item()], probabilities.flatten()[prediction.item()].item()"
      ]
    },
    {
      "cell_type": "code",
      "execution_count": 36,
      "metadata": {
        "id": "jPTVb2WiazBV",
        "colab": {
          "base_uri": "https://localhost:8080/"
        },
        "outputId": "f8a40a6e-b448-4e7a-f057-8bfa2e15f629"
      },
      "outputs": [
        {
          "output_type": "stream",
          "name": "stdout",
          "text": [
            "\n",
            "--- Re-analysis with Fine-tuned Model on Custom Sentences ---\n",
            "Sentence: 'This degradable plastics took more than 2 years to degrade' -> Predicted Sentiment: Negative (Probability: 0.9966)\n",
            "Sentence: 'This plastic bottle is degrading really fast' -> Predicted Sentiment: Negative (Probability: 0.6514)\n",
            "Sentence: 'Eco-friendly products are usually very expensive.' -> Predicted Sentiment: Negative (Probability: 0.9974)\n",
            "Sentence: 'I love how this sustainable packaging reduces waste.' -> Predicted Sentiment: Positive (Probability: 0.9987)\n",
            "Sentence: 'The carbon footprint of this product is too high.' -> Predicted Sentiment: Negative (Probability: 0.9987)\n",
            "Sentence: 'This product is amazing and totally recyclable!' -> Predicted Sentiment: Positive (Probability: 0.9988)\n"
          ]
        }
      ],
      "source": [
        "print(\"\\n--- Re-analysis with Fine-tuned Model on Custom Sentences ---\")\n",
        "for sentence in custom_sentences:\n",
        "    sentiment, prob = predict_sentiment_fine_tuned(sentence, fine_tuned_model, tokenizer, device)\n",
        "    print(f\"Sentence: '{sentence}' -> Predicted Sentiment: {sentiment} (Probability: {prob:.4f})\")"
      ]
    },
    {
      "cell_type": "markdown",
      "source": [
        "### Fine-Tuning Results Analysis:\n",
        "\n",
        "**✅ Dramatic Improvements in Negative Sentiment Detection:**\n",
        "- *This degradable plastics took more than 2 years to degrade*  \n",
        "  - **Before:** Positive (0.84) → **After:** Negative (0.99)  \n",
        "  - **Why:** Model now recognizes \"took more than 2 years\" as a negative delay.\n",
        "\n",
        "- *Eco-friendly products are usually very expensive.*  \n",
        "  - **Before:** Positive (0.87) → **After:** Negative (0.99)  \n",
        "  - **Why:** \"Very expensive\" is now correctly weighted as criticism.\n",
        "\n",
        "- *The carbon footprint is too high*  \n",
        "  - **Before:** Positive (0.81) → **After:** Negative (0.99)  \n",
        "  - **Why:** \"Too high\" is now flagged as environmentally negative.\n",
        "\n",
        "**⚠️ Potential Overcorrection?**\n",
        "- *This plastic bottle is degrading really fast\"*  \n",
        "  - **Before:** Positive (0.97) → **After:** Negative (0.65)  \n",
        "  - **Oddity:** Should likely remain Positive. Suggests synthetic data may over-emphasize \"degrading\" as negative without context.\n",
        "\n",
        "**Consistent Positives:**\n",
        "- *I love sustainable packaging* and *amazing recyclable product*  \n",
        "  - Remain strongly Positive (0.99+) – correctly unaffected by fine-tuning.\n",
        "\n",
        "#### Key Insights:\n",
        "1. **Domain-Specific Nuances Learned:**  \n",
        "   - Fine-tuning helped the model grasp sustainability-specific critiques (slow degradation, high cost, carbon footprint).\n",
        "\n",
        "2. **Neutral Class Missing:**  \n",
        "   - Sentences like *\"Eco-products are expensive\"* might benefit from a Neutral label instead of forced Negative.\n",
        "\n",
        "3. **Next Steps:**  \n",
        "   - Adjust synthetic data to better distinguish:  \n",
        "     - *Fast degradation* = Positive  \n",
        "     - *Slow degradation* = Negative  \n",
        "   - Add Neutral examples for balanced training.\n",
        "\n",
        "#### Fine-Tuning Verdict:  \n",
        "**Success** for critical sustainability sentiment, but needs slight calibration for borderline cases."
      ],
      "metadata": {
        "id": "pPHA6gA7h-h2"
      }
    },
    {
      "cell_type": "markdown",
      "metadata": {
        "id": "Hz1x-rhkbHFN"
      },
      "source": [
        "### 9. Conclusion and Insights\n",
        "\n",
        "**Impact of Fine-tuning:**\n",
        "- ✅ **Critical Improvements**  \n",
        "  - The model now correctly classifies sustainability pain points:  \n",
        "    - Slow degradation (\"took 2 years\") → Negative (from Positive)  \n",
        "    - High cost (\"very expensive\") → Negative (from Positive)  \n",
        "    - Environmental harm (\"high carbon footprint\") → Negative (from Positive)  \n",
        "  - Neutral class would help for ambiguous statements (e.g., \"Eco-products cost more\").\n",
        "\n",
        "**Value for Product Design:**  \n",
        "- 🎯 **Actionable Insights**  \n",
        "  - **Pain Points to Address**:  \n",
        "    - Speed of degradation (consumers expect faster results)  \n",
        "    - Cost barriers (highlight long-term savings)  \n",
        "    - Transparency in environmental claims (avoid greenwashing)  \n",
        "  - **Positive Drivers to Leverage**:  \n",
        "    - Fast degradation (\"degrades quickly!\" → marketable benefit)  \n",
        "    - Waste reduction (\"reduces packaging waste\" → emotional appeal)  \n",
        "    - Recyclability (\"totally recyclable\" → clear sustainability badge)  \n",
        "\n",
        "**Limitations and Future Work:**  \n",
        "- 🔧 **Areas for Improvement**:  \n",
        "  1. **Data Quality**:  \n",
        "     - Replace synthetic tweets with real consumer reviews for richer nuance.  \n",
        "     - Example: Scrape Twitter/X for #SustainableProducts hashtags.  \n",
        "  2. **Model Precision**:  \n",
        "     - Add **aspect-based sentiment** (e.g., separate \"price\" vs. \"durability\" sentiment).  \n",
        "     - Use **Few-Shot Learning** with GPT-4 to generate better synthetic examples.  \n",
        "  3. **Deployment**:  \n",
        "     - Build a real-time dashboard monitoring social media for emerging sustainability trends.  \n",
        "\n",
        "**Key Takeaway**:  \n",
        "Fine-tuning BERT with domain-specific data *works*—it transformed a generic sentiment model into a sustainability-aware tool. Further refinements will unlock even deeper insights for eco-design.  "
      ]
    },
    {
      "cell_type": "markdown",
      "metadata": {
        "id": "VjNFx6T5HJXN"
      },
      "source": [
        "# Author\n",
        "                                          By: Kaletsidik Ayalew\n",
        "                                          Date: July 14, 2025"
      ]
    }
  ],
  "metadata": {
    "accelerator": "GPU",
    "colab": {
      "gpuType": "T4",
      "provenance": [],
      "toc_visible": true,
      "authorship_tag": "ABX9TyNXQ3L9Tk4TRAU7x0007y+4",
      "include_colab_link": true
    },
    "kernelspec": {
      "display_name": "Python 3",
      "name": "python3"
    },
    "language_info": {
      "name": "python"
    },
    "widgets": {
      "application/vnd.jupyter.widget-state+json": {
        "2ce324bb260640c1a963493ff20ba6fd": {
          "model_module": "@jupyter-widgets/controls",
          "model_name": "HBoxModel",
          "model_module_version": "1.5.0",
          "state": {
            "_dom_classes": [],
            "_model_module": "@jupyter-widgets/controls",
            "_model_module_version": "1.5.0",
            "_model_name": "HBoxModel",
            "_view_count": null,
            "_view_module": "@jupyter-widgets/controls",
            "_view_module_version": "1.5.0",
            "_view_name": "HBoxView",
            "box_style": "",
            "children": [
              "IPY_MODEL_d46fcee5fd3e45f4a09822ccb1b78b59",
              "IPY_MODEL_fdd6646339454e4498cd457a4a6738a3",
              "IPY_MODEL_84c1313b4fd74fc08c1a2351f0cfe52e"
            ],
            "layout": "IPY_MODEL_281fa7753b934f1abb24514118cd9ed5"
          }
        },
        "d46fcee5fd3e45f4a09822ccb1b78b59": {
          "model_module": "@jupyter-widgets/controls",
          "model_name": "HTMLModel",
          "model_module_version": "1.5.0",
          "state": {
            "_dom_classes": [],
            "_model_module": "@jupyter-widgets/controls",
            "_model_module_version": "1.5.0",
            "_model_name": "HTMLModel",
            "_view_count": null,
            "_view_module": "@jupyter-widgets/controls",
            "_view_module_version": "1.5.0",
            "_view_name": "HTMLView",
            "description": "",
            "description_tooltip": null,
            "layout": "IPY_MODEL_41587b6b66524252a1f20b293ea2be1c",
            "placeholder": "​",
            "style": "IPY_MODEL_99d86611096d46ea9028111a65b9be49",
            "value": "tokenizer_config.json: 100%"
          }
        },
        "fdd6646339454e4498cd457a4a6738a3": {
          "model_module": "@jupyter-widgets/controls",
          "model_name": "FloatProgressModel",
          "model_module_version": "1.5.0",
          "state": {
            "_dom_classes": [],
            "_model_module": "@jupyter-widgets/controls",
            "_model_module_version": "1.5.0",
            "_model_name": "FloatProgressModel",
            "_view_count": null,
            "_view_module": "@jupyter-widgets/controls",
            "_view_module_version": "1.5.0",
            "_view_name": "ProgressView",
            "bar_style": "success",
            "description": "",
            "description_tooltip": null,
            "layout": "IPY_MODEL_98f9c7ce22974ff782ff89a3133e5d6d",
            "max": 48,
            "min": 0,
            "orientation": "horizontal",
            "style": "IPY_MODEL_e248a26100c54abdada2c82f53b399cb",
            "value": 48
          }
        },
        "84c1313b4fd74fc08c1a2351f0cfe52e": {
          "model_module": "@jupyter-widgets/controls",
          "model_name": "HTMLModel",
          "model_module_version": "1.5.0",
          "state": {
            "_dom_classes": [],
            "_model_module": "@jupyter-widgets/controls",
            "_model_module_version": "1.5.0",
            "_model_name": "HTMLModel",
            "_view_count": null,
            "_view_module": "@jupyter-widgets/controls",
            "_view_module_version": "1.5.0",
            "_view_name": "HTMLView",
            "description": "",
            "description_tooltip": null,
            "layout": "IPY_MODEL_1b1d9537042544ccabc8eb84cccce1dc",
            "placeholder": "​",
            "style": "IPY_MODEL_0e0817478efb4077a0c6d8bb68f216bb",
            "value": " 48.0/48.0 [00:00&lt;00:00, 4.25kB/s]"
          }
        },
        "281fa7753b934f1abb24514118cd9ed5": {
          "model_module": "@jupyter-widgets/base",
          "model_name": "LayoutModel",
          "model_module_version": "1.2.0",
          "state": {
            "_model_module": "@jupyter-widgets/base",
            "_model_module_version": "1.2.0",
            "_model_name": "LayoutModel",
            "_view_count": null,
            "_view_module": "@jupyter-widgets/base",
            "_view_module_version": "1.2.0",
            "_view_name": "LayoutView",
            "align_content": null,
            "align_items": null,
            "align_self": null,
            "border": null,
            "bottom": null,
            "display": null,
            "flex": null,
            "flex_flow": null,
            "grid_area": null,
            "grid_auto_columns": null,
            "grid_auto_flow": null,
            "grid_auto_rows": null,
            "grid_column": null,
            "grid_gap": null,
            "grid_row": null,
            "grid_template_areas": null,
            "grid_template_columns": null,
            "grid_template_rows": null,
            "height": null,
            "justify_content": null,
            "justify_items": null,
            "left": null,
            "margin": null,
            "max_height": null,
            "max_width": null,
            "min_height": null,
            "min_width": null,
            "object_fit": null,
            "object_position": null,
            "order": null,
            "overflow": null,
            "overflow_x": null,
            "overflow_y": null,
            "padding": null,
            "right": null,
            "top": null,
            "visibility": null,
            "width": null
          }
        },
        "41587b6b66524252a1f20b293ea2be1c": {
          "model_module": "@jupyter-widgets/base",
          "model_name": "LayoutModel",
          "model_module_version": "1.2.0",
          "state": {
            "_model_module": "@jupyter-widgets/base",
            "_model_module_version": "1.2.0",
            "_model_name": "LayoutModel",
            "_view_count": null,
            "_view_module": "@jupyter-widgets/base",
            "_view_module_version": "1.2.0",
            "_view_name": "LayoutView",
            "align_content": null,
            "align_items": null,
            "align_self": null,
            "border": null,
            "bottom": null,
            "display": null,
            "flex": null,
            "flex_flow": null,
            "grid_area": null,
            "grid_auto_columns": null,
            "grid_auto_flow": null,
            "grid_auto_rows": null,
            "grid_column": null,
            "grid_gap": null,
            "grid_row": null,
            "grid_template_areas": null,
            "grid_template_columns": null,
            "grid_template_rows": null,
            "height": null,
            "justify_content": null,
            "justify_items": null,
            "left": null,
            "margin": null,
            "max_height": null,
            "max_width": null,
            "min_height": null,
            "min_width": null,
            "object_fit": null,
            "object_position": null,
            "order": null,
            "overflow": null,
            "overflow_x": null,
            "overflow_y": null,
            "padding": null,
            "right": null,
            "top": null,
            "visibility": null,
            "width": null
          }
        },
        "99d86611096d46ea9028111a65b9be49": {
          "model_module": "@jupyter-widgets/controls",
          "model_name": "DescriptionStyleModel",
          "model_module_version": "1.5.0",
          "state": {
            "_model_module": "@jupyter-widgets/controls",
            "_model_module_version": "1.5.0",
            "_model_name": "DescriptionStyleModel",
            "_view_count": null,
            "_view_module": "@jupyter-widgets/base",
            "_view_module_version": "1.2.0",
            "_view_name": "StyleView",
            "description_width": ""
          }
        },
        "98f9c7ce22974ff782ff89a3133e5d6d": {
          "model_module": "@jupyter-widgets/base",
          "model_name": "LayoutModel",
          "model_module_version": "1.2.0",
          "state": {
            "_model_module": "@jupyter-widgets/base",
            "_model_module_version": "1.2.0",
            "_model_name": "LayoutModel",
            "_view_count": null,
            "_view_module": "@jupyter-widgets/base",
            "_view_module_version": "1.2.0",
            "_view_name": "LayoutView",
            "align_content": null,
            "align_items": null,
            "align_self": null,
            "border": null,
            "bottom": null,
            "display": null,
            "flex": null,
            "flex_flow": null,
            "grid_area": null,
            "grid_auto_columns": null,
            "grid_auto_flow": null,
            "grid_auto_rows": null,
            "grid_column": null,
            "grid_gap": null,
            "grid_row": null,
            "grid_template_areas": null,
            "grid_template_columns": null,
            "grid_template_rows": null,
            "height": null,
            "justify_content": null,
            "justify_items": null,
            "left": null,
            "margin": null,
            "max_height": null,
            "max_width": null,
            "min_height": null,
            "min_width": null,
            "object_fit": null,
            "object_position": null,
            "order": null,
            "overflow": null,
            "overflow_x": null,
            "overflow_y": null,
            "padding": null,
            "right": null,
            "top": null,
            "visibility": null,
            "width": null
          }
        },
        "e248a26100c54abdada2c82f53b399cb": {
          "model_module": "@jupyter-widgets/controls",
          "model_name": "ProgressStyleModel",
          "model_module_version": "1.5.0",
          "state": {
            "_model_module": "@jupyter-widgets/controls",
            "_model_module_version": "1.5.0",
            "_model_name": "ProgressStyleModel",
            "_view_count": null,
            "_view_module": "@jupyter-widgets/base",
            "_view_module_version": "1.2.0",
            "_view_name": "StyleView",
            "bar_color": null,
            "description_width": ""
          }
        },
        "1b1d9537042544ccabc8eb84cccce1dc": {
          "model_module": "@jupyter-widgets/base",
          "model_name": "LayoutModel",
          "model_module_version": "1.2.0",
          "state": {
            "_model_module": "@jupyter-widgets/base",
            "_model_module_version": "1.2.0",
            "_model_name": "LayoutModel",
            "_view_count": null,
            "_view_module": "@jupyter-widgets/base",
            "_view_module_version": "1.2.0",
            "_view_name": "LayoutView",
            "align_content": null,
            "align_items": null,
            "align_self": null,
            "border": null,
            "bottom": null,
            "display": null,
            "flex": null,
            "flex_flow": null,
            "grid_area": null,
            "grid_auto_columns": null,
            "grid_auto_flow": null,
            "grid_auto_rows": null,
            "grid_column": null,
            "grid_gap": null,
            "grid_row": null,
            "grid_template_areas": null,
            "grid_template_columns": null,
            "grid_template_rows": null,
            "height": null,
            "justify_content": null,
            "justify_items": null,
            "left": null,
            "margin": null,
            "max_height": null,
            "max_width": null,
            "min_height": null,
            "min_width": null,
            "object_fit": null,
            "object_position": null,
            "order": null,
            "overflow": null,
            "overflow_x": null,
            "overflow_y": null,
            "padding": null,
            "right": null,
            "top": null,
            "visibility": null,
            "width": null
          }
        },
        "0e0817478efb4077a0c6d8bb68f216bb": {
          "model_module": "@jupyter-widgets/controls",
          "model_name": "DescriptionStyleModel",
          "model_module_version": "1.5.0",
          "state": {
            "_model_module": "@jupyter-widgets/controls",
            "_model_module_version": "1.5.0",
            "_model_name": "DescriptionStyleModel",
            "_view_count": null,
            "_view_module": "@jupyter-widgets/base",
            "_view_module_version": "1.2.0",
            "_view_name": "StyleView",
            "description_width": ""
          }
        },
        "d503eca5848d444fb22870a7615815d6": {
          "model_module": "@jupyter-widgets/controls",
          "model_name": "HBoxModel",
          "model_module_version": "1.5.0",
          "state": {
            "_dom_classes": [],
            "_model_module": "@jupyter-widgets/controls",
            "_model_module_version": "1.5.0",
            "_model_name": "HBoxModel",
            "_view_count": null,
            "_view_module": "@jupyter-widgets/controls",
            "_view_module_version": "1.5.0",
            "_view_name": "HBoxView",
            "box_style": "",
            "children": [
              "IPY_MODEL_25d3479c41954dbea1cc336e52c95f6a",
              "IPY_MODEL_729186f3c8c940b4a0ac3b89411933b9",
              "IPY_MODEL_bfcbdacf21bd48079548daa9e268e080"
            ],
            "layout": "IPY_MODEL_18d94a77359d4facbe57c9ea8be1d651"
          }
        },
        "25d3479c41954dbea1cc336e52c95f6a": {
          "model_module": "@jupyter-widgets/controls",
          "model_name": "HTMLModel",
          "model_module_version": "1.5.0",
          "state": {
            "_dom_classes": [],
            "_model_module": "@jupyter-widgets/controls",
            "_model_module_version": "1.5.0",
            "_model_name": "HTMLModel",
            "_view_count": null,
            "_view_module": "@jupyter-widgets/controls",
            "_view_module_version": "1.5.0",
            "_view_name": "HTMLView",
            "description": "",
            "description_tooltip": null,
            "layout": "IPY_MODEL_747311d918a84c209e68041a248f86ff",
            "placeholder": "​",
            "style": "IPY_MODEL_0c59082ac8da4e7ca7ebca00e98d6692",
            "value": "vocab.txt: 100%"
          }
        },
        "729186f3c8c940b4a0ac3b89411933b9": {
          "model_module": "@jupyter-widgets/controls",
          "model_name": "FloatProgressModel",
          "model_module_version": "1.5.0",
          "state": {
            "_dom_classes": [],
            "_model_module": "@jupyter-widgets/controls",
            "_model_module_version": "1.5.0",
            "_model_name": "FloatProgressModel",
            "_view_count": null,
            "_view_module": "@jupyter-widgets/controls",
            "_view_module_version": "1.5.0",
            "_view_name": "ProgressView",
            "bar_style": "success",
            "description": "",
            "description_tooltip": null,
            "layout": "IPY_MODEL_7840c9c2432f40bd83d3bde0b607f6b3",
            "max": 231508,
            "min": 0,
            "orientation": "horizontal",
            "style": "IPY_MODEL_58d6cd5a4414412caddf60e73c3c2da5",
            "value": 231508
          }
        },
        "bfcbdacf21bd48079548daa9e268e080": {
          "model_module": "@jupyter-widgets/controls",
          "model_name": "HTMLModel",
          "model_module_version": "1.5.0",
          "state": {
            "_dom_classes": [],
            "_model_module": "@jupyter-widgets/controls",
            "_model_module_version": "1.5.0",
            "_model_name": "HTMLModel",
            "_view_count": null,
            "_view_module": "@jupyter-widgets/controls",
            "_view_module_version": "1.5.0",
            "_view_name": "HTMLView",
            "description": "",
            "description_tooltip": null,
            "layout": "IPY_MODEL_5e17f09c1ee546cc81ee1ee9e3c22767",
            "placeholder": "​",
            "style": "IPY_MODEL_37abca6ed3dd4e0a815134a0c385431d",
            "value": " 232k/232k [00:00&lt;00:00, 14.2MB/s]"
          }
        },
        "18d94a77359d4facbe57c9ea8be1d651": {
          "model_module": "@jupyter-widgets/base",
          "model_name": "LayoutModel",
          "model_module_version": "1.2.0",
          "state": {
            "_model_module": "@jupyter-widgets/base",
            "_model_module_version": "1.2.0",
            "_model_name": "LayoutModel",
            "_view_count": null,
            "_view_module": "@jupyter-widgets/base",
            "_view_module_version": "1.2.0",
            "_view_name": "LayoutView",
            "align_content": null,
            "align_items": null,
            "align_self": null,
            "border": null,
            "bottom": null,
            "display": null,
            "flex": null,
            "flex_flow": null,
            "grid_area": null,
            "grid_auto_columns": null,
            "grid_auto_flow": null,
            "grid_auto_rows": null,
            "grid_column": null,
            "grid_gap": null,
            "grid_row": null,
            "grid_template_areas": null,
            "grid_template_columns": null,
            "grid_template_rows": null,
            "height": null,
            "justify_content": null,
            "justify_items": null,
            "left": null,
            "margin": null,
            "max_height": null,
            "max_width": null,
            "min_height": null,
            "min_width": null,
            "object_fit": null,
            "object_position": null,
            "order": null,
            "overflow": null,
            "overflow_x": null,
            "overflow_y": null,
            "padding": null,
            "right": null,
            "top": null,
            "visibility": null,
            "width": null
          }
        },
        "747311d918a84c209e68041a248f86ff": {
          "model_module": "@jupyter-widgets/base",
          "model_name": "LayoutModel",
          "model_module_version": "1.2.0",
          "state": {
            "_model_module": "@jupyter-widgets/base",
            "_model_module_version": "1.2.0",
            "_model_name": "LayoutModel",
            "_view_count": null,
            "_view_module": "@jupyter-widgets/base",
            "_view_module_version": "1.2.0",
            "_view_name": "LayoutView",
            "align_content": null,
            "align_items": null,
            "align_self": null,
            "border": null,
            "bottom": null,
            "display": null,
            "flex": null,
            "flex_flow": null,
            "grid_area": null,
            "grid_auto_columns": null,
            "grid_auto_flow": null,
            "grid_auto_rows": null,
            "grid_column": null,
            "grid_gap": null,
            "grid_row": null,
            "grid_template_areas": null,
            "grid_template_columns": null,
            "grid_template_rows": null,
            "height": null,
            "justify_content": null,
            "justify_items": null,
            "left": null,
            "margin": null,
            "max_height": null,
            "max_width": null,
            "min_height": null,
            "min_width": null,
            "object_fit": null,
            "object_position": null,
            "order": null,
            "overflow": null,
            "overflow_x": null,
            "overflow_y": null,
            "padding": null,
            "right": null,
            "top": null,
            "visibility": null,
            "width": null
          }
        },
        "0c59082ac8da4e7ca7ebca00e98d6692": {
          "model_module": "@jupyter-widgets/controls",
          "model_name": "DescriptionStyleModel",
          "model_module_version": "1.5.0",
          "state": {
            "_model_module": "@jupyter-widgets/controls",
            "_model_module_version": "1.5.0",
            "_model_name": "DescriptionStyleModel",
            "_view_count": null,
            "_view_module": "@jupyter-widgets/base",
            "_view_module_version": "1.2.0",
            "_view_name": "StyleView",
            "description_width": ""
          }
        },
        "7840c9c2432f40bd83d3bde0b607f6b3": {
          "model_module": "@jupyter-widgets/base",
          "model_name": "LayoutModel",
          "model_module_version": "1.2.0",
          "state": {
            "_model_module": "@jupyter-widgets/base",
            "_model_module_version": "1.2.0",
            "_model_name": "LayoutModel",
            "_view_count": null,
            "_view_module": "@jupyter-widgets/base",
            "_view_module_version": "1.2.0",
            "_view_name": "LayoutView",
            "align_content": null,
            "align_items": null,
            "align_self": null,
            "border": null,
            "bottom": null,
            "display": null,
            "flex": null,
            "flex_flow": null,
            "grid_area": null,
            "grid_auto_columns": null,
            "grid_auto_flow": null,
            "grid_auto_rows": null,
            "grid_column": null,
            "grid_gap": null,
            "grid_row": null,
            "grid_template_areas": null,
            "grid_template_columns": null,
            "grid_template_rows": null,
            "height": null,
            "justify_content": null,
            "justify_items": null,
            "left": null,
            "margin": null,
            "max_height": null,
            "max_width": null,
            "min_height": null,
            "min_width": null,
            "object_fit": null,
            "object_position": null,
            "order": null,
            "overflow": null,
            "overflow_x": null,
            "overflow_y": null,
            "padding": null,
            "right": null,
            "top": null,
            "visibility": null,
            "width": null
          }
        },
        "58d6cd5a4414412caddf60e73c3c2da5": {
          "model_module": "@jupyter-widgets/controls",
          "model_name": "ProgressStyleModel",
          "model_module_version": "1.5.0",
          "state": {
            "_model_module": "@jupyter-widgets/controls",
            "_model_module_version": "1.5.0",
            "_model_name": "ProgressStyleModel",
            "_view_count": null,
            "_view_module": "@jupyter-widgets/base",
            "_view_module_version": "1.2.0",
            "_view_name": "StyleView",
            "bar_color": null,
            "description_width": ""
          }
        },
        "5e17f09c1ee546cc81ee1ee9e3c22767": {
          "model_module": "@jupyter-widgets/base",
          "model_name": "LayoutModel",
          "model_module_version": "1.2.0",
          "state": {
            "_model_module": "@jupyter-widgets/base",
            "_model_module_version": "1.2.0",
            "_model_name": "LayoutModel",
            "_view_count": null,
            "_view_module": "@jupyter-widgets/base",
            "_view_module_version": "1.2.0",
            "_view_name": "LayoutView",
            "align_content": null,
            "align_items": null,
            "align_self": null,
            "border": null,
            "bottom": null,
            "display": null,
            "flex": null,
            "flex_flow": null,
            "grid_area": null,
            "grid_auto_columns": null,
            "grid_auto_flow": null,
            "grid_auto_rows": null,
            "grid_column": null,
            "grid_gap": null,
            "grid_row": null,
            "grid_template_areas": null,
            "grid_template_columns": null,
            "grid_template_rows": null,
            "height": null,
            "justify_content": null,
            "justify_items": null,
            "left": null,
            "margin": null,
            "max_height": null,
            "max_width": null,
            "min_height": null,
            "min_width": null,
            "object_fit": null,
            "object_position": null,
            "order": null,
            "overflow": null,
            "overflow_x": null,
            "overflow_y": null,
            "padding": null,
            "right": null,
            "top": null,
            "visibility": null,
            "width": null
          }
        },
        "37abca6ed3dd4e0a815134a0c385431d": {
          "model_module": "@jupyter-widgets/controls",
          "model_name": "DescriptionStyleModel",
          "model_module_version": "1.5.0",
          "state": {
            "_model_module": "@jupyter-widgets/controls",
            "_model_module_version": "1.5.0",
            "_model_name": "DescriptionStyleModel",
            "_view_count": null,
            "_view_module": "@jupyter-widgets/base",
            "_view_module_version": "1.2.0",
            "_view_name": "StyleView",
            "description_width": ""
          }
        },
        "36bbc8c7d8124d00b5ee55ce354b04d3": {
          "model_module": "@jupyter-widgets/controls",
          "model_name": "HBoxModel",
          "model_module_version": "1.5.0",
          "state": {
            "_dom_classes": [],
            "_model_module": "@jupyter-widgets/controls",
            "_model_module_version": "1.5.0",
            "_model_name": "HBoxModel",
            "_view_count": null,
            "_view_module": "@jupyter-widgets/controls",
            "_view_module_version": "1.5.0",
            "_view_name": "HBoxView",
            "box_style": "",
            "children": [
              "IPY_MODEL_9a05648ee25c4b2e9c833ddcbae1e2fd",
              "IPY_MODEL_a579072205ba4a529d36f6764799c1eb",
              "IPY_MODEL_2fbee65200974445b8faf447e78cefa1"
            ],
            "layout": "IPY_MODEL_b791e11a90b64b0e83e8ed1b38152480"
          }
        },
        "9a05648ee25c4b2e9c833ddcbae1e2fd": {
          "model_module": "@jupyter-widgets/controls",
          "model_name": "HTMLModel",
          "model_module_version": "1.5.0",
          "state": {
            "_dom_classes": [],
            "_model_module": "@jupyter-widgets/controls",
            "_model_module_version": "1.5.0",
            "_model_name": "HTMLModel",
            "_view_count": null,
            "_view_module": "@jupyter-widgets/controls",
            "_view_module_version": "1.5.0",
            "_view_name": "HTMLView",
            "description": "",
            "description_tooltip": null,
            "layout": "IPY_MODEL_9c3954984cdc407aa01b7e2fbe04948c",
            "placeholder": "​",
            "style": "IPY_MODEL_6648b506dea04b29854387cd70f47ab7",
            "value": "tokenizer.json: 100%"
          }
        },
        "a579072205ba4a529d36f6764799c1eb": {
          "model_module": "@jupyter-widgets/controls",
          "model_name": "FloatProgressModel",
          "model_module_version": "1.5.0",
          "state": {
            "_dom_classes": [],
            "_model_module": "@jupyter-widgets/controls",
            "_model_module_version": "1.5.0",
            "_model_name": "FloatProgressModel",
            "_view_count": null,
            "_view_module": "@jupyter-widgets/controls",
            "_view_module_version": "1.5.0",
            "_view_name": "ProgressView",
            "bar_style": "success",
            "description": "",
            "description_tooltip": null,
            "layout": "IPY_MODEL_91292cb4039b443ea761d93fcb5b9aa9",
            "max": 466062,
            "min": 0,
            "orientation": "horizontal",
            "style": "IPY_MODEL_3e428ec5c6c3483ca7f9cba94e9f4c7f",
            "value": 466062
          }
        },
        "2fbee65200974445b8faf447e78cefa1": {
          "model_module": "@jupyter-widgets/controls",
          "model_name": "HTMLModel",
          "model_module_version": "1.5.0",
          "state": {
            "_dom_classes": [],
            "_model_module": "@jupyter-widgets/controls",
            "_model_module_version": "1.5.0",
            "_model_name": "HTMLModel",
            "_view_count": null,
            "_view_module": "@jupyter-widgets/controls",
            "_view_module_version": "1.5.0",
            "_view_name": "HTMLView",
            "description": "",
            "description_tooltip": null,
            "layout": "IPY_MODEL_384e6fe27d2744b88802e4be4eabacd9",
            "placeholder": "​",
            "style": "IPY_MODEL_2f45e672b6214815875d4728ad1cabd1",
            "value": " 466k/466k [00:00&lt;00:00, 21.4MB/s]"
          }
        },
        "b791e11a90b64b0e83e8ed1b38152480": {
          "model_module": "@jupyter-widgets/base",
          "model_name": "LayoutModel",
          "model_module_version": "1.2.0",
          "state": {
            "_model_module": "@jupyter-widgets/base",
            "_model_module_version": "1.2.0",
            "_model_name": "LayoutModel",
            "_view_count": null,
            "_view_module": "@jupyter-widgets/base",
            "_view_module_version": "1.2.0",
            "_view_name": "LayoutView",
            "align_content": null,
            "align_items": null,
            "align_self": null,
            "border": null,
            "bottom": null,
            "display": null,
            "flex": null,
            "flex_flow": null,
            "grid_area": null,
            "grid_auto_columns": null,
            "grid_auto_flow": null,
            "grid_auto_rows": null,
            "grid_column": null,
            "grid_gap": null,
            "grid_row": null,
            "grid_template_areas": null,
            "grid_template_columns": null,
            "grid_template_rows": null,
            "height": null,
            "justify_content": null,
            "justify_items": null,
            "left": null,
            "margin": null,
            "max_height": null,
            "max_width": null,
            "min_height": null,
            "min_width": null,
            "object_fit": null,
            "object_position": null,
            "order": null,
            "overflow": null,
            "overflow_x": null,
            "overflow_y": null,
            "padding": null,
            "right": null,
            "top": null,
            "visibility": null,
            "width": null
          }
        },
        "9c3954984cdc407aa01b7e2fbe04948c": {
          "model_module": "@jupyter-widgets/base",
          "model_name": "LayoutModel",
          "model_module_version": "1.2.0",
          "state": {
            "_model_module": "@jupyter-widgets/base",
            "_model_module_version": "1.2.0",
            "_model_name": "LayoutModel",
            "_view_count": null,
            "_view_module": "@jupyter-widgets/base",
            "_view_module_version": "1.2.0",
            "_view_name": "LayoutView",
            "align_content": null,
            "align_items": null,
            "align_self": null,
            "border": null,
            "bottom": null,
            "display": null,
            "flex": null,
            "flex_flow": null,
            "grid_area": null,
            "grid_auto_columns": null,
            "grid_auto_flow": null,
            "grid_auto_rows": null,
            "grid_column": null,
            "grid_gap": null,
            "grid_row": null,
            "grid_template_areas": null,
            "grid_template_columns": null,
            "grid_template_rows": null,
            "height": null,
            "justify_content": null,
            "justify_items": null,
            "left": null,
            "margin": null,
            "max_height": null,
            "max_width": null,
            "min_height": null,
            "min_width": null,
            "object_fit": null,
            "object_position": null,
            "order": null,
            "overflow": null,
            "overflow_x": null,
            "overflow_y": null,
            "padding": null,
            "right": null,
            "top": null,
            "visibility": null,
            "width": null
          }
        },
        "6648b506dea04b29854387cd70f47ab7": {
          "model_module": "@jupyter-widgets/controls",
          "model_name": "DescriptionStyleModel",
          "model_module_version": "1.5.0",
          "state": {
            "_model_module": "@jupyter-widgets/controls",
            "_model_module_version": "1.5.0",
            "_model_name": "DescriptionStyleModel",
            "_view_count": null,
            "_view_module": "@jupyter-widgets/base",
            "_view_module_version": "1.2.0",
            "_view_name": "StyleView",
            "description_width": ""
          }
        },
        "91292cb4039b443ea761d93fcb5b9aa9": {
          "model_module": "@jupyter-widgets/base",
          "model_name": "LayoutModel",
          "model_module_version": "1.2.0",
          "state": {
            "_model_module": "@jupyter-widgets/base",
            "_model_module_version": "1.2.0",
            "_model_name": "LayoutModel",
            "_view_count": null,
            "_view_module": "@jupyter-widgets/base",
            "_view_module_version": "1.2.0",
            "_view_name": "LayoutView",
            "align_content": null,
            "align_items": null,
            "align_self": null,
            "border": null,
            "bottom": null,
            "display": null,
            "flex": null,
            "flex_flow": null,
            "grid_area": null,
            "grid_auto_columns": null,
            "grid_auto_flow": null,
            "grid_auto_rows": null,
            "grid_column": null,
            "grid_gap": null,
            "grid_row": null,
            "grid_template_areas": null,
            "grid_template_columns": null,
            "grid_template_rows": null,
            "height": null,
            "justify_content": null,
            "justify_items": null,
            "left": null,
            "margin": null,
            "max_height": null,
            "max_width": null,
            "min_height": null,
            "min_width": null,
            "object_fit": null,
            "object_position": null,
            "order": null,
            "overflow": null,
            "overflow_x": null,
            "overflow_y": null,
            "padding": null,
            "right": null,
            "top": null,
            "visibility": null,
            "width": null
          }
        },
        "3e428ec5c6c3483ca7f9cba94e9f4c7f": {
          "model_module": "@jupyter-widgets/controls",
          "model_name": "ProgressStyleModel",
          "model_module_version": "1.5.0",
          "state": {
            "_model_module": "@jupyter-widgets/controls",
            "_model_module_version": "1.5.0",
            "_model_name": "ProgressStyleModel",
            "_view_count": null,
            "_view_module": "@jupyter-widgets/base",
            "_view_module_version": "1.2.0",
            "_view_name": "StyleView",
            "bar_color": null,
            "description_width": ""
          }
        },
        "384e6fe27d2744b88802e4be4eabacd9": {
          "model_module": "@jupyter-widgets/base",
          "model_name": "LayoutModel",
          "model_module_version": "1.2.0",
          "state": {
            "_model_module": "@jupyter-widgets/base",
            "_model_module_version": "1.2.0",
            "_model_name": "LayoutModel",
            "_view_count": null,
            "_view_module": "@jupyter-widgets/base",
            "_view_module_version": "1.2.0",
            "_view_name": "LayoutView",
            "align_content": null,
            "align_items": null,
            "align_self": null,
            "border": null,
            "bottom": null,
            "display": null,
            "flex": null,
            "flex_flow": null,
            "grid_area": null,
            "grid_auto_columns": null,
            "grid_auto_flow": null,
            "grid_auto_rows": null,
            "grid_column": null,
            "grid_gap": null,
            "grid_row": null,
            "grid_template_areas": null,
            "grid_template_columns": null,
            "grid_template_rows": null,
            "height": null,
            "justify_content": null,
            "justify_items": null,
            "left": null,
            "margin": null,
            "max_height": null,
            "max_width": null,
            "min_height": null,
            "min_width": null,
            "object_fit": null,
            "object_position": null,
            "order": null,
            "overflow": null,
            "overflow_x": null,
            "overflow_y": null,
            "padding": null,
            "right": null,
            "top": null,
            "visibility": null,
            "width": null
          }
        },
        "2f45e672b6214815875d4728ad1cabd1": {
          "model_module": "@jupyter-widgets/controls",
          "model_name": "DescriptionStyleModel",
          "model_module_version": "1.5.0",
          "state": {
            "_model_module": "@jupyter-widgets/controls",
            "_model_module_version": "1.5.0",
            "_model_name": "DescriptionStyleModel",
            "_view_count": null,
            "_view_module": "@jupyter-widgets/base",
            "_view_module_version": "1.2.0",
            "_view_name": "StyleView",
            "description_width": ""
          }
        },
        "ca6bab0fb7b44934b4d033a9269a5437": {
          "model_module": "@jupyter-widgets/controls",
          "model_name": "HBoxModel",
          "model_module_version": "1.5.0",
          "state": {
            "_dom_classes": [],
            "_model_module": "@jupyter-widgets/controls",
            "_model_module_version": "1.5.0",
            "_model_name": "HBoxModel",
            "_view_count": null,
            "_view_module": "@jupyter-widgets/controls",
            "_view_module_version": "1.5.0",
            "_view_name": "HBoxView",
            "box_style": "",
            "children": [
              "IPY_MODEL_995d5ff1441a4f22932a5b77e3015b0f",
              "IPY_MODEL_7e4852bd32b74c5e9e191201ea34fde3",
              "IPY_MODEL_d0b915ff81444620ab8d8664045ff41a"
            ],
            "layout": "IPY_MODEL_fe6fbe26da6443d99ee18973b0f41636"
          }
        },
        "995d5ff1441a4f22932a5b77e3015b0f": {
          "model_module": "@jupyter-widgets/controls",
          "model_name": "HTMLModel",
          "model_module_version": "1.5.0",
          "state": {
            "_dom_classes": [],
            "_model_module": "@jupyter-widgets/controls",
            "_model_module_version": "1.5.0",
            "_model_name": "HTMLModel",
            "_view_count": null,
            "_view_module": "@jupyter-widgets/controls",
            "_view_module_version": "1.5.0",
            "_view_name": "HTMLView",
            "description": "",
            "description_tooltip": null,
            "layout": "IPY_MODEL_be9f845b8c9e44cdb7f25db25402ff01",
            "placeholder": "​",
            "style": "IPY_MODEL_d15ec13f86dd463198c99ac253121f2c",
            "value": "config.json: 100%"
          }
        },
        "7e4852bd32b74c5e9e191201ea34fde3": {
          "model_module": "@jupyter-widgets/controls",
          "model_name": "FloatProgressModel",
          "model_module_version": "1.5.0",
          "state": {
            "_dom_classes": [],
            "_model_module": "@jupyter-widgets/controls",
            "_model_module_version": "1.5.0",
            "_model_name": "FloatProgressModel",
            "_view_count": null,
            "_view_module": "@jupyter-widgets/controls",
            "_view_module_version": "1.5.0",
            "_view_name": "ProgressView",
            "bar_style": "success",
            "description": "",
            "description_tooltip": null,
            "layout": "IPY_MODEL_745b53375d3b479bb6f65f1e35b92cbb",
            "max": 570,
            "min": 0,
            "orientation": "horizontal",
            "style": "IPY_MODEL_ba57c825a7e04bd7aa531c28c385ab2a",
            "value": 570
          }
        },
        "d0b915ff81444620ab8d8664045ff41a": {
          "model_module": "@jupyter-widgets/controls",
          "model_name": "HTMLModel",
          "model_module_version": "1.5.0",
          "state": {
            "_dom_classes": [],
            "_model_module": "@jupyter-widgets/controls",
            "_model_module_version": "1.5.0",
            "_model_name": "HTMLModel",
            "_view_count": null,
            "_view_module": "@jupyter-widgets/controls",
            "_view_module_version": "1.5.0",
            "_view_name": "HTMLView",
            "description": "",
            "description_tooltip": null,
            "layout": "IPY_MODEL_c903b307eb57457390e73960ed152956",
            "placeholder": "​",
            "style": "IPY_MODEL_f4a712b480d441ba800e661a1b74bb0d",
            "value": " 570/570 [00:00&lt;00:00, 53.8kB/s]"
          }
        },
        "fe6fbe26da6443d99ee18973b0f41636": {
          "model_module": "@jupyter-widgets/base",
          "model_name": "LayoutModel",
          "model_module_version": "1.2.0",
          "state": {
            "_model_module": "@jupyter-widgets/base",
            "_model_module_version": "1.2.0",
            "_model_name": "LayoutModel",
            "_view_count": null,
            "_view_module": "@jupyter-widgets/base",
            "_view_module_version": "1.2.0",
            "_view_name": "LayoutView",
            "align_content": null,
            "align_items": null,
            "align_self": null,
            "border": null,
            "bottom": null,
            "display": null,
            "flex": null,
            "flex_flow": null,
            "grid_area": null,
            "grid_auto_columns": null,
            "grid_auto_flow": null,
            "grid_auto_rows": null,
            "grid_column": null,
            "grid_gap": null,
            "grid_row": null,
            "grid_template_areas": null,
            "grid_template_columns": null,
            "grid_template_rows": null,
            "height": null,
            "justify_content": null,
            "justify_items": null,
            "left": null,
            "margin": null,
            "max_height": null,
            "max_width": null,
            "min_height": null,
            "min_width": null,
            "object_fit": null,
            "object_position": null,
            "order": null,
            "overflow": null,
            "overflow_x": null,
            "overflow_y": null,
            "padding": null,
            "right": null,
            "top": null,
            "visibility": null,
            "width": null
          }
        },
        "be9f845b8c9e44cdb7f25db25402ff01": {
          "model_module": "@jupyter-widgets/base",
          "model_name": "LayoutModel",
          "model_module_version": "1.2.0",
          "state": {
            "_model_module": "@jupyter-widgets/base",
            "_model_module_version": "1.2.0",
            "_model_name": "LayoutModel",
            "_view_count": null,
            "_view_module": "@jupyter-widgets/base",
            "_view_module_version": "1.2.0",
            "_view_name": "LayoutView",
            "align_content": null,
            "align_items": null,
            "align_self": null,
            "border": null,
            "bottom": null,
            "display": null,
            "flex": null,
            "flex_flow": null,
            "grid_area": null,
            "grid_auto_columns": null,
            "grid_auto_flow": null,
            "grid_auto_rows": null,
            "grid_column": null,
            "grid_gap": null,
            "grid_row": null,
            "grid_template_areas": null,
            "grid_template_columns": null,
            "grid_template_rows": null,
            "height": null,
            "justify_content": null,
            "justify_items": null,
            "left": null,
            "margin": null,
            "max_height": null,
            "max_width": null,
            "min_height": null,
            "min_width": null,
            "object_fit": null,
            "object_position": null,
            "order": null,
            "overflow": null,
            "overflow_x": null,
            "overflow_y": null,
            "padding": null,
            "right": null,
            "top": null,
            "visibility": null,
            "width": null
          }
        },
        "d15ec13f86dd463198c99ac253121f2c": {
          "model_module": "@jupyter-widgets/controls",
          "model_name": "DescriptionStyleModel",
          "model_module_version": "1.5.0",
          "state": {
            "_model_module": "@jupyter-widgets/controls",
            "_model_module_version": "1.5.0",
            "_model_name": "DescriptionStyleModel",
            "_view_count": null,
            "_view_module": "@jupyter-widgets/base",
            "_view_module_version": "1.2.0",
            "_view_name": "StyleView",
            "description_width": ""
          }
        },
        "745b53375d3b479bb6f65f1e35b92cbb": {
          "model_module": "@jupyter-widgets/base",
          "model_name": "LayoutModel",
          "model_module_version": "1.2.0",
          "state": {
            "_model_module": "@jupyter-widgets/base",
            "_model_module_version": "1.2.0",
            "_model_name": "LayoutModel",
            "_view_count": null,
            "_view_module": "@jupyter-widgets/base",
            "_view_module_version": "1.2.0",
            "_view_name": "LayoutView",
            "align_content": null,
            "align_items": null,
            "align_self": null,
            "border": null,
            "bottom": null,
            "display": null,
            "flex": null,
            "flex_flow": null,
            "grid_area": null,
            "grid_auto_columns": null,
            "grid_auto_flow": null,
            "grid_auto_rows": null,
            "grid_column": null,
            "grid_gap": null,
            "grid_row": null,
            "grid_template_areas": null,
            "grid_template_columns": null,
            "grid_template_rows": null,
            "height": null,
            "justify_content": null,
            "justify_items": null,
            "left": null,
            "margin": null,
            "max_height": null,
            "max_width": null,
            "min_height": null,
            "min_width": null,
            "object_fit": null,
            "object_position": null,
            "order": null,
            "overflow": null,
            "overflow_x": null,
            "overflow_y": null,
            "padding": null,
            "right": null,
            "top": null,
            "visibility": null,
            "width": null
          }
        },
        "ba57c825a7e04bd7aa531c28c385ab2a": {
          "model_module": "@jupyter-widgets/controls",
          "model_name": "ProgressStyleModel",
          "model_module_version": "1.5.0",
          "state": {
            "_model_module": "@jupyter-widgets/controls",
            "_model_module_version": "1.5.0",
            "_model_name": "ProgressStyleModel",
            "_view_count": null,
            "_view_module": "@jupyter-widgets/base",
            "_view_module_version": "1.2.0",
            "_view_name": "StyleView",
            "bar_color": null,
            "description_width": ""
          }
        },
        "c903b307eb57457390e73960ed152956": {
          "model_module": "@jupyter-widgets/base",
          "model_name": "LayoutModel",
          "model_module_version": "1.2.0",
          "state": {
            "_model_module": "@jupyter-widgets/base",
            "_model_module_version": "1.2.0",
            "_model_name": "LayoutModel",
            "_view_count": null,
            "_view_module": "@jupyter-widgets/base",
            "_view_module_version": "1.2.0",
            "_view_name": "LayoutView",
            "align_content": null,
            "align_items": null,
            "align_self": null,
            "border": null,
            "bottom": null,
            "display": null,
            "flex": null,
            "flex_flow": null,
            "grid_area": null,
            "grid_auto_columns": null,
            "grid_auto_flow": null,
            "grid_auto_rows": null,
            "grid_column": null,
            "grid_gap": null,
            "grid_row": null,
            "grid_template_areas": null,
            "grid_template_columns": null,
            "grid_template_rows": null,
            "height": null,
            "justify_content": null,
            "justify_items": null,
            "left": null,
            "margin": null,
            "max_height": null,
            "max_width": null,
            "min_height": null,
            "min_width": null,
            "object_fit": null,
            "object_position": null,
            "order": null,
            "overflow": null,
            "overflow_x": null,
            "overflow_y": null,
            "padding": null,
            "right": null,
            "top": null,
            "visibility": null,
            "width": null
          }
        },
        "f4a712b480d441ba800e661a1b74bb0d": {
          "model_module": "@jupyter-widgets/controls",
          "model_name": "DescriptionStyleModel",
          "model_module_version": "1.5.0",
          "state": {
            "_model_module": "@jupyter-widgets/controls",
            "_model_module_version": "1.5.0",
            "_model_name": "DescriptionStyleModel",
            "_view_count": null,
            "_view_module": "@jupyter-widgets/base",
            "_view_module_version": "1.2.0",
            "_view_name": "StyleView",
            "description_width": ""
          }
        },
        "3500fd00720047b681143f7eaa2c8b56": {
          "model_module": "@jupyter-widgets/controls",
          "model_name": "HBoxModel",
          "model_module_version": "1.5.0",
          "state": {
            "_dom_classes": [],
            "_model_module": "@jupyter-widgets/controls",
            "_model_module_version": "1.5.0",
            "_model_name": "HBoxModel",
            "_view_count": null,
            "_view_module": "@jupyter-widgets/controls",
            "_view_module_version": "1.5.0",
            "_view_name": "HBoxView",
            "box_style": "",
            "children": [
              "IPY_MODEL_0f28b1881f554eb4a451997c52cf662c",
              "IPY_MODEL_0a1a9db5d9cd4904914c4a511479d0d3",
              "IPY_MODEL_fb7ffc239f414a76961208c2dd74b6eb"
            ],
            "layout": "IPY_MODEL_843939efb1954ff4a924c95f51951d7f"
          }
        },
        "0f28b1881f554eb4a451997c52cf662c": {
          "model_module": "@jupyter-widgets/controls",
          "model_name": "HTMLModel",
          "model_module_version": "1.5.0",
          "state": {
            "_dom_classes": [],
            "_model_module": "@jupyter-widgets/controls",
            "_model_module_version": "1.5.0",
            "_model_name": "HTMLModel",
            "_view_count": null,
            "_view_module": "@jupyter-widgets/controls",
            "_view_module_version": "1.5.0",
            "_view_name": "HTMLView",
            "description": "",
            "description_tooltip": null,
            "layout": "IPY_MODEL_76a7cbd2b4b14298a0dcff32472475e4",
            "placeholder": "​",
            "style": "IPY_MODEL_9949578fc1ce4552abc92299ad174b20",
            "value": "model.safetensors: 100%"
          }
        },
        "0a1a9db5d9cd4904914c4a511479d0d3": {
          "model_module": "@jupyter-widgets/controls",
          "model_name": "FloatProgressModel",
          "model_module_version": "1.5.0",
          "state": {
            "_dom_classes": [],
            "_model_module": "@jupyter-widgets/controls",
            "_model_module_version": "1.5.0",
            "_model_name": "FloatProgressModel",
            "_view_count": null,
            "_view_module": "@jupyter-widgets/controls",
            "_view_module_version": "1.5.0",
            "_view_name": "ProgressView",
            "bar_style": "success",
            "description": "",
            "description_tooltip": null,
            "layout": "IPY_MODEL_83bf672f44744148893de54d4b6f30b1",
            "max": 440449768,
            "min": 0,
            "orientation": "horizontal",
            "style": "IPY_MODEL_cbdeae8b074047ab87aa13dc6fb9dcd9",
            "value": 440449768
          }
        },
        "fb7ffc239f414a76961208c2dd74b6eb": {
          "model_module": "@jupyter-widgets/controls",
          "model_name": "HTMLModel",
          "model_module_version": "1.5.0",
          "state": {
            "_dom_classes": [],
            "_model_module": "@jupyter-widgets/controls",
            "_model_module_version": "1.5.0",
            "_model_name": "HTMLModel",
            "_view_count": null,
            "_view_module": "@jupyter-widgets/controls",
            "_view_module_version": "1.5.0",
            "_view_name": "HTMLView",
            "description": "",
            "description_tooltip": null,
            "layout": "IPY_MODEL_de141a32486646c3ba42cc82c3231650",
            "placeholder": "​",
            "style": "IPY_MODEL_24c052c9d8a8426298009ffbf1368fae",
            "value": " 440M/440M [00:07&lt;00:00, 71.9MB/s]"
          }
        },
        "843939efb1954ff4a924c95f51951d7f": {
          "model_module": "@jupyter-widgets/base",
          "model_name": "LayoutModel",
          "model_module_version": "1.2.0",
          "state": {
            "_model_module": "@jupyter-widgets/base",
            "_model_module_version": "1.2.0",
            "_model_name": "LayoutModel",
            "_view_count": null,
            "_view_module": "@jupyter-widgets/base",
            "_view_module_version": "1.2.0",
            "_view_name": "LayoutView",
            "align_content": null,
            "align_items": null,
            "align_self": null,
            "border": null,
            "bottom": null,
            "display": null,
            "flex": null,
            "flex_flow": null,
            "grid_area": null,
            "grid_auto_columns": null,
            "grid_auto_flow": null,
            "grid_auto_rows": null,
            "grid_column": null,
            "grid_gap": null,
            "grid_row": null,
            "grid_template_areas": null,
            "grid_template_columns": null,
            "grid_template_rows": null,
            "height": null,
            "justify_content": null,
            "justify_items": null,
            "left": null,
            "margin": null,
            "max_height": null,
            "max_width": null,
            "min_height": null,
            "min_width": null,
            "object_fit": null,
            "object_position": null,
            "order": null,
            "overflow": null,
            "overflow_x": null,
            "overflow_y": null,
            "padding": null,
            "right": null,
            "top": null,
            "visibility": null,
            "width": null
          }
        },
        "76a7cbd2b4b14298a0dcff32472475e4": {
          "model_module": "@jupyter-widgets/base",
          "model_name": "LayoutModel",
          "model_module_version": "1.2.0",
          "state": {
            "_model_module": "@jupyter-widgets/base",
            "_model_module_version": "1.2.0",
            "_model_name": "LayoutModel",
            "_view_count": null,
            "_view_module": "@jupyter-widgets/base",
            "_view_module_version": "1.2.0",
            "_view_name": "LayoutView",
            "align_content": null,
            "align_items": null,
            "align_self": null,
            "border": null,
            "bottom": null,
            "display": null,
            "flex": null,
            "flex_flow": null,
            "grid_area": null,
            "grid_auto_columns": null,
            "grid_auto_flow": null,
            "grid_auto_rows": null,
            "grid_column": null,
            "grid_gap": null,
            "grid_row": null,
            "grid_template_areas": null,
            "grid_template_columns": null,
            "grid_template_rows": null,
            "height": null,
            "justify_content": null,
            "justify_items": null,
            "left": null,
            "margin": null,
            "max_height": null,
            "max_width": null,
            "min_height": null,
            "min_width": null,
            "object_fit": null,
            "object_position": null,
            "order": null,
            "overflow": null,
            "overflow_x": null,
            "overflow_y": null,
            "padding": null,
            "right": null,
            "top": null,
            "visibility": null,
            "width": null
          }
        },
        "9949578fc1ce4552abc92299ad174b20": {
          "model_module": "@jupyter-widgets/controls",
          "model_name": "DescriptionStyleModel",
          "model_module_version": "1.5.0",
          "state": {
            "_model_module": "@jupyter-widgets/controls",
            "_model_module_version": "1.5.0",
            "_model_name": "DescriptionStyleModel",
            "_view_count": null,
            "_view_module": "@jupyter-widgets/base",
            "_view_module_version": "1.2.0",
            "_view_name": "StyleView",
            "description_width": ""
          }
        },
        "83bf672f44744148893de54d4b6f30b1": {
          "model_module": "@jupyter-widgets/base",
          "model_name": "LayoutModel",
          "model_module_version": "1.2.0",
          "state": {
            "_model_module": "@jupyter-widgets/base",
            "_model_module_version": "1.2.0",
            "_model_name": "LayoutModel",
            "_view_count": null,
            "_view_module": "@jupyter-widgets/base",
            "_view_module_version": "1.2.0",
            "_view_name": "LayoutView",
            "align_content": null,
            "align_items": null,
            "align_self": null,
            "border": null,
            "bottom": null,
            "display": null,
            "flex": null,
            "flex_flow": null,
            "grid_area": null,
            "grid_auto_columns": null,
            "grid_auto_flow": null,
            "grid_auto_rows": null,
            "grid_column": null,
            "grid_gap": null,
            "grid_row": null,
            "grid_template_areas": null,
            "grid_template_columns": null,
            "grid_template_rows": null,
            "height": null,
            "justify_content": null,
            "justify_items": null,
            "left": null,
            "margin": null,
            "max_height": null,
            "max_width": null,
            "min_height": null,
            "min_width": null,
            "object_fit": null,
            "object_position": null,
            "order": null,
            "overflow": null,
            "overflow_x": null,
            "overflow_y": null,
            "padding": null,
            "right": null,
            "top": null,
            "visibility": null,
            "width": null
          }
        },
        "cbdeae8b074047ab87aa13dc6fb9dcd9": {
          "model_module": "@jupyter-widgets/controls",
          "model_name": "ProgressStyleModel",
          "model_module_version": "1.5.0",
          "state": {
            "_model_module": "@jupyter-widgets/controls",
            "_model_module_version": "1.5.0",
            "_model_name": "ProgressStyleModel",
            "_view_count": null,
            "_view_module": "@jupyter-widgets/base",
            "_view_module_version": "1.2.0",
            "_view_name": "StyleView",
            "bar_color": null,
            "description_width": ""
          }
        },
        "de141a32486646c3ba42cc82c3231650": {
          "model_module": "@jupyter-widgets/base",
          "model_name": "LayoutModel",
          "model_module_version": "1.2.0",
          "state": {
            "_model_module": "@jupyter-widgets/base",
            "_model_module_version": "1.2.0",
            "_model_name": "LayoutModel",
            "_view_count": null,
            "_view_module": "@jupyter-widgets/base",
            "_view_module_version": "1.2.0",
            "_view_name": "LayoutView",
            "align_content": null,
            "align_items": null,
            "align_self": null,
            "border": null,
            "bottom": null,
            "display": null,
            "flex": null,
            "flex_flow": null,
            "grid_area": null,
            "grid_auto_columns": null,
            "grid_auto_flow": null,
            "grid_auto_rows": null,
            "grid_column": null,
            "grid_gap": null,
            "grid_row": null,
            "grid_template_areas": null,
            "grid_template_columns": null,
            "grid_template_rows": null,
            "height": null,
            "justify_content": null,
            "justify_items": null,
            "left": null,
            "margin": null,
            "max_height": null,
            "max_width": null,
            "min_height": null,
            "min_width": null,
            "object_fit": null,
            "object_position": null,
            "order": null,
            "overflow": null,
            "overflow_x": null,
            "overflow_y": null,
            "padding": null,
            "right": null,
            "top": null,
            "visibility": null,
            "width": null
          }
        },
        "24c052c9d8a8426298009ffbf1368fae": {
          "model_module": "@jupyter-widgets/controls",
          "model_name": "DescriptionStyleModel",
          "model_module_version": "1.5.0",
          "state": {
            "_model_module": "@jupyter-widgets/controls",
            "_model_module_version": "1.5.0",
            "_model_name": "DescriptionStyleModel",
            "_view_count": null,
            "_view_module": "@jupyter-widgets/base",
            "_view_module_version": "1.2.0",
            "_view_name": "StyleView",
            "description_width": ""
          }
        }
      }
    }
  },
  "nbformat": 4,
  "nbformat_minor": 0
}